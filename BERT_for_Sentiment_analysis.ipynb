{
  "cells": [
    {
      "cell_type": "markdown",
      "metadata": {
        "id": "Q6hKNfAlEzUS",
        "papermill": {
          "duration": 0.054847,
          "end_time": "2020-12-24T10:40:55.654119",
          "exception": false,
          "start_time": "2020-12-24T10:40:55.599272",
          "status": "completed"
        },
        "tags": []
      },
      "source": [
        "### Import Libraries and Set the intial variables"
      ]
    },
    {
      "cell_type": "code",
      "execution_count": null,
      "metadata": {
        "execution": {
          "iopub.execute_input": "2020-12-24T10:40:55.763658Z",
          "iopub.status.busy": "2020-12-24T10:40:55.762789Z",
          "iopub.status.idle": "2020-12-24T10:41:05.911843Z",
          "shell.execute_reply": "2020-12-24T10:41:05.910641Z"
        },
        "id": "vezpsX-7GphM",
        "outputId": "d09b38d8-8185-43c9-fc23-33ad524f764e",
        "papermill": {
          "duration": 10.201828,
          "end_time": "2020-12-24T10:41:05.912009",
          "exception": false,
          "start_time": "2020-12-24T10:40:55.710181",
          "status": "completed"
        },
        "tags": [],
        "colab": {
          "base_uri": "https://localhost:8080/"
        }
      },
      "outputs": [
        {
          "output_type": "stream",
          "name": "stdout",
          "text": [
            "Looking in indexes: https://pypi.org/simple, https://us-python.pkg.dev/colab-wheels/public/simple/\n",
            "Collecting transformers\n",
            "  Downloading transformers-4.27.4-py3-none-any.whl (6.8 MB)\n",
            "\u001b[2K     \u001b[90m━━━━━━━━━━━━━━━━━━━━━━━━━━━━━━━━━━━━━━━━\u001b[0m \u001b[32m6.8/6.8 MB\u001b[0m \u001b[31m25.5 MB/s\u001b[0m eta \u001b[36m0:00:00\u001b[0m\n",
            "\u001b[?25hRequirement already satisfied: tqdm>=4.27 in /usr/local/lib/python3.9/dist-packages (from transformers) (4.65.0)\n",
            "Collecting huggingface-hub<1.0,>=0.11.0\n",
            "  Downloading huggingface_hub-0.13.3-py3-none-any.whl (199 kB)\n",
            "\u001b[2K     \u001b[90m━━━━━━━━━━━━━━━━━━━━━━━━━━━━━━━━━━━━━━\u001b[0m \u001b[32m199.8/199.8 KB\u001b[0m \u001b[31m23.6 MB/s\u001b[0m eta \u001b[36m0:00:00\u001b[0m\n",
            "\u001b[?25hCollecting tokenizers!=0.11.3,<0.14,>=0.11.1\n",
            "  Downloading tokenizers-0.13.3-cp39-cp39-manylinux_2_17_x86_64.manylinux2014_x86_64.whl (7.8 MB)\n",
            "\u001b[2K     \u001b[90m━━━━━━━━━━━━━━━━━━━━━━━━━━━━━━━━━━━━━━━━\u001b[0m \u001b[32m7.8/7.8 MB\u001b[0m \u001b[31m108.4 MB/s\u001b[0m eta \u001b[36m0:00:00\u001b[0m\n",
            "\u001b[?25hRequirement already satisfied: filelock in /usr/local/lib/python3.9/dist-packages (from transformers) (3.10.7)\n",
            "Requirement already satisfied: regex!=2019.12.17 in /usr/local/lib/python3.9/dist-packages (from transformers) (2022.10.31)\n",
            "Requirement already satisfied: requests in /usr/local/lib/python3.9/dist-packages (from transformers) (2.27.1)\n",
            "Requirement already satisfied: packaging>=20.0 in /usr/local/lib/python3.9/dist-packages (from transformers) (23.0)\n",
            "Requirement already satisfied: pyyaml>=5.1 in /usr/local/lib/python3.9/dist-packages (from transformers) (6.0)\n",
            "Requirement already satisfied: numpy>=1.17 in /usr/local/lib/python3.9/dist-packages (from transformers) (1.22.4)\n",
            "Requirement already satisfied: typing-extensions>=3.7.4.3 in /usr/local/lib/python3.9/dist-packages (from huggingface-hub<1.0,>=0.11.0->transformers) (4.5.0)\n",
            "Requirement already satisfied: urllib3<1.27,>=1.21.1 in /usr/local/lib/python3.9/dist-packages (from requests->transformers) (1.26.15)\n",
            "Requirement already satisfied: charset-normalizer~=2.0.0 in /usr/local/lib/python3.9/dist-packages (from requests->transformers) (2.0.12)\n",
            "Requirement already satisfied: idna<4,>=2.5 in /usr/local/lib/python3.9/dist-packages (from requests->transformers) (3.4)\n",
            "Requirement already satisfied: certifi>=2017.4.17 in /usr/local/lib/python3.9/dist-packages (from requests->transformers) (2022.12.7)\n",
            "Installing collected packages: tokenizers, huggingface-hub, transformers\n",
            "Successfully installed huggingface-hub-0.13.3 tokenizers-0.13.3 transformers-4.27.4\n"
          ]
        }
      ],
      "source": [
        "!pip install transformers"
      ]
    },
    {
      "cell_type": "code",
      "execution_count": null,
      "metadata": {
        "execution": {
          "iopub.execute_input": "2020-12-24T10:41:06.032496Z",
          "iopub.status.busy": "2020-12-24T10:41:06.031346Z",
          "iopub.status.idle": "2020-12-24T10:41:15.711746Z",
          "shell.execute_reply": "2020-12-24T10:41:15.711007Z"
        },
        "id": "WtQykqrfEzUT",
        "papermill": {
          "duration": 9.726207,
          "end_time": "2020-12-24T10:41:15.711956",
          "exception": false,
          "start_time": "2020-12-24T10:41:05.985749",
          "status": "completed"
        },
        "tags": []
      },
      "outputs": [],
      "source": [
        "# Import necessary libraries\n",
        "import numpy as np\n",
        "import pandas as pd\n",
        "import seaborn as sns\n",
        "from pylab import rcParams\n",
        "import matplotlib.pyplot as plt\n",
        "from matplotlib import rc\n",
        "from sklearn.model_selection import train_test_split\n",
        "from sklearn.metrics import confusion_matrix, classification_report\n",
        "from collections import defaultdict\n",
        "from textwrap import wrap\n",
        "\n",
        "# Torch ML libraries\n",
        "import transformers\n",
        "from transformers import BertModel, BertTokenizer, AdamW, get_linear_schedule_with_warmup\n",
        "import torch\n",
        "from torch import nn, optim\n",
        "from torch.utils.data import Dataset, DataLoader\n",
        "\n",
        "# Misc.\n",
        "import warnings\n",
        "warnings.filterwarnings('ignore')"
      ]
    },
    {
      "cell_type": "code",
      "execution_count": null,
      "metadata": {
        "execution": {
          "iopub.execute_input": "2020-12-24T10:41:15.808786Z",
          "iopub.status.busy": "2020-12-24T10:41:15.807937Z",
          "iopub.status.idle": "2020-12-24T10:41:15.819901Z",
          "shell.execute_reply": "2020-12-24T10:41:15.819301Z"
        },
        "id": "gRINjFWWEzUb",
        "papermill": {
          "duration": 0.069774,
          "end_time": "2020-12-24T10:41:15.820032",
          "exception": false,
          "start_time": "2020-12-24T10:41:15.750258",
          "status": "completed"
        },
        "tags": []
      },
      "outputs": [],
      "source": [
        "# Set intial variables and constants\n",
        "%config InlineBackend.figure_format='retina'\n",
        "\n",
        "# Graph Designs\n",
        "sns.set(style='whitegrid', palette='muted', font_scale=1.2)\n",
        "HAPPY_COLORS_PALETTE = [\"#01BEFE\", \"#FFDD00\", \"#FF7D00\", \"#FF006D\", \"#ADFF02\", \"#8F00FF\"]\n",
        "sns.set_palette(sns.color_palette(HAPPY_COLORS_PALETTE))\n",
        "rcParams['figure.figsize'] = 12, 8\n",
        "\n",
        "# Random seed for reproducibilty\n",
        "RANDOM_SEED = 42\n",
        "np.random.seed(RANDOM_SEED)\n",
        "torch.manual_seed(RANDOM_SEED)\n",
        "\n",
        "# Set GPU\n",
        "device = torch.device(\"cuda\" if torch.cuda.is_available() else \"cpu\")"
      ]
    },
    {
      "cell_type": "markdown",
      "metadata": {
        "id": "LQOFO5MSEzUf",
        "papermill": {
          "duration": 0.043307,
          "end_time": "2020-12-24T10:41:15.903190",
          "exception": false,
          "start_time": "2020-12-24T10:41:15.859883",
          "status": "completed"
        },
        "tags": []
      },
      "source": [
        "### Load the data"
      ]
    },
    {
      "cell_type": "code",
      "execution_count": null,
      "metadata": {
        "execution": {
          "iopub.execute_input": "2020-12-24T10:41:15.999903Z",
          "iopub.status.busy": "2020-12-24T10:41:15.999121Z",
          "iopub.status.idle": "2020-12-24T10:41:16.196291Z",
          "shell.execute_reply": "2020-12-24T10:41:16.195493Z"
        },
        "id": "g6b5ajqzEzUg",
        "outputId": "f99f94f0-5301-4f6f-a3b7-e36e676898ee",
        "papermill": {
          "duration": 0.251685,
          "end_time": "2020-12-24T10:41:16.196420",
          "exception": false,
          "start_time": "2020-12-24T10:41:15.944735",
          "status": "completed"
        },
        "tags": [],
        "colab": {
          "base_uri": "https://localhost:8080/"
        }
      },
      "outputs": [
        {
          "output_type": "execute_result",
          "data": {
            "text/plain": [
              "(27481, 4)"
            ]
          },
          "metadata": {},
          "execution_count": 4
        }
      ],
      "source": [
        "df = pd.read_csv('train.csv')\n",
        "df.shape"
      ]
    },
    {
      "cell_type": "code",
      "execution_count": null,
      "metadata": {
        "execution": {
          "iopub.execute_input": "2020-12-24T10:41:16.293895Z",
          "iopub.status.busy": "2020-12-24T10:41:16.292929Z",
          "iopub.status.idle": "2020-12-24T10:41:16.304760Z",
          "shell.execute_reply": "2020-12-24T10:41:16.305248Z"
        },
        "id": "eQ5Uwg8xEzUk",
        "outputId": "5889232f-39c6-4c0d-8778-b33854a5821f",
        "papermill": {
          "duration": 0.069877,
          "end_time": "2020-12-24T10:41:16.305369",
          "exception": false,
          "start_time": "2020-12-24T10:41:16.235492",
          "status": "completed"
        },
        "tags": [],
        "colab": {
          "base_uri": "https://localhost:8080/",
          "height": 206
        }
      },
      "outputs": [
        {
          "output_type": "execute_result",
          "data": {
            "text/plain": [
              "       textID                                               text  \\\n",
              "0  cb774db0d1                I`d have responded, if I were going   \n",
              "1  549e992a42      Sooo SAD I will miss you here in San Diego!!!   \n",
              "2  088c60f138                          my boss is bullying me...   \n",
              "3  9642c003ef                     what interview! leave me alone   \n",
              "4  358bd9e861   Sons of ****, why couldn`t they put them on t...   \n",
              "\n",
              "                         selected_text sentiment  \n",
              "0  I`d have responded, if I were going   neutral  \n",
              "1                             Sooo SAD  negative  \n",
              "2                          bullying me  negative  \n",
              "3                       leave me alone  negative  \n",
              "4                        Sons of ****,  negative  "
            ],
            "text/html": [
              "\n",
              "  <div id=\"df-323d77b9-dd45-42f2-ac8e-df1283f7786c\">\n",
              "    <div class=\"colab-df-container\">\n",
              "      <div>\n",
              "<style scoped>\n",
              "    .dataframe tbody tr th:only-of-type {\n",
              "        vertical-align: middle;\n",
              "    }\n",
              "\n",
              "    .dataframe tbody tr th {\n",
              "        vertical-align: top;\n",
              "    }\n",
              "\n",
              "    .dataframe thead th {\n",
              "        text-align: right;\n",
              "    }\n",
              "</style>\n",
              "<table border=\"1\" class=\"dataframe\">\n",
              "  <thead>\n",
              "    <tr style=\"text-align: right;\">\n",
              "      <th></th>\n",
              "      <th>textID</th>\n",
              "      <th>text</th>\n",
              "      <th>selected_text</th>\n",
              "      <th>sentiment</th>\n",
              "    </tr>\n",
              "  </thead>\n",
              "  <tbody>\n",
              "    <tr>\n",
              "      <th>0</th>\n",
              "      <td>cb774db0d1</td>\n",
              "      <td>I`d have responded, if I were going</td>\n",
              "      <td>I`d have responded, if I were going</td>\n",
              "      <td>neutral</td>\n",
              "    </tr>\n",
              "    <tr>\n",
              "      <th>1</th>\n",
              "      <td>549e992a42</td>\n",
              "      <td>Sooo SAD I will miss you here in San Diego!!!</td>\n",
              "      <td>Sooo SAD</td>\n",
              "      <td>negative</td>\n",
              "    </tr>\n",
              "    <tr>\n",
              "      <th>2</th>\n",
              "      <td>088c60f138</td>\n",
              "      <td>my boss is bullying me...</td>\n",
              "      <td>bullying me</td>\n",
              "      <td>negative</td>\n",
              "    </tr>\n",
              "    <tr>\n",
              "      <th>3</th>\n",
              "      <td>9642c003ef</td>\n",
              "      <td>what interview! leave me alone</td>\n",
              "      <td>leave me alone</td>\n",
              "      <td>negative</td>\n",
              "    </tr>\n",
              "    <tr>\n",
              "      <th>4</th>\n",
              "      <td>358bd9e861</td>\n",
              "      <td>Sons of ****, why couldn`t they put them on t...</td>\n",
              "      <td>Sons of ****,</td>\n",
              "      <td>negative</td>\n",
              "    </tr>\n",
              "  </tbody>\n",
              "</table>\n",
              "</div>\n",
              "      <button class=\"colab-df-convert\" onclick=\"convertToInteractive('df-323d77b9-dd45-42f2-ac8e-df1283f7786c')\"\n",
              "              title=\"Convert this dataframe to an interactive table.\"\n",
              "              style=\"display:none;\">\n",
              "        \n",
              "  <svg xmlns=\"http://www.w3.org/2000/svg\" height=\"24px\"viewBox=\"0 0 24 24\"\n",
              "       width=\"24px\">\n",
              "    <path d=\"M0 0h24v24H0V0z\" fill=\"none\"/>\n",
              "    <path d=\"M18.56 5.44l.94 2.06.94-2.06 2.06-.94-2.06-.94-.94-2.06-.94 2.06-2.06.94zm-11 1L8.5 8.5l.94-2.06 2.06-.94-2.06-.94L8.5 2.5l-.94 2.06-2.06.94zm10 10l.94 2.06.94-2.06 2.06-.94-2.06-.94-.94-2.06-.94 2.06-2.06.94z\"/><path d=\"M17.41 7.96l-1.37-1.37c-.4-.4-.92-.59-1.43-.59-.52 0-1.04.2-1.43.59L10.3 9.45l-7.72 7.72c-.78.78-.78 2.05 0 2.83L4 21.41c.39.39.9.59 1.41.59.51 0 1.02-.2 1.41-.59l7.78-7.78 2.81-2.81c.8-.78.8-2.07 0-2.86zM5.41 20L4 18.59l7.72-7.72 1.47 1.35L5.41 20z\"/>\n",
              "  </svg>\n",
              "      </button>\n",
              "      \n",
              "  <style>\n",
              "    .colab-df-container {\n",
              "      display:flex;\n",
              "      flex-wrap:wrap;\n",
              "      gap: 12px;\n",
              "    }\n",
              "\n",
              "    .colab-df-convert {\n",
              "      background-color: #E8F0FE;\n",
              "      border: none;\n",
              "      border-radius: 50%;\n",
              "      cursor: pointer;\n",
              "      display: none;\n",
              "      fill: #1967D2;\n",
              "      height: 32px;\n",
              "      padding: 0 0 0 0;\n",
              "      width: 32px;\n",
              "    }\n",
              "\n",
              "    .colab-df-convert:hover {\n",
              "      background-color: #E2EBFA;\n",
              "      box-shadow: 0px 1px 2px rgba(60, 64, 67, 0.3), 0px 1px 3px 1px rgba(60, 64, 67, 0.15);\n",
              "      fill: #174EA6;\n",
              "    }\n",
              "\n",
              "    [theme=dark] .colab-df-convert {\n",
              "      background-color: #3B4455;\n",
              "      fill: #D2E3FC;\n",
              "    }\n",
              "\n",
              "    [theme=dark] .colab-df-convert:hover {\n",
              "      background-color: #434B5C;\n",
              "      box-shadow: 0px 1px 3px 1px rgba(0, 0, 0, 0.15);\n",
              "      filter: drop-shadow(0px 1px 2px rgba(0, 0, 0, 0.3));\n",
              "      fill: #FFFFFF;\n",
              "    }\n",
              "  </style>\n",
              "\n",
              "      <script>\n",
              "        const buttonEl =\n",
              "          document.querySelector('#df-323d77b9-dd45-42f2-ac8e-df1283f7786c button.colab-df-convert');\n",
              "        buttonEl.style.display =\n",
              "          google.colab.kernel.accessAllowed ? 'block' : 'none';\n",
              "\n",
              "        async function convertToInteractive(key) {\n",
              "          const element = document.querySelector('#df-323d77b9-dd45-42f2-ac8e-df1283f7786c');\n",
              "          const dataTable =\n",
              "            await google.colab.kernel.invokeFunction('convertToInteractive',\n",
              "                                                     [key], {});\n",
              "          if (!dataTable) return;\n",
              "\n",
              "          const docLinkHtml = 'Like what you see? Visit the ' +\n",
              "            '<a target=\"_blank\" href=https://colab.research.google.com/notebooks/data_table.ipynb>data table notebook</a>'\n",
              "            + ' to learn more about interactive tables.';\n",
              "          element.innerHTML = '';\n",
              "          dataTable['output_type'] = 'display_data';\n",
              "          await google.colab.output.renderOutput(dataTable, element);\n",
              "          const docLink = document.createElement('div');\n",
              "          docLink.innerHTML = docLinkHtml;\n",
              "          element.appendChild(docLink);\n",
              "        }\n",
              "      </script>\n",
              "    </div>\n",
              "  </div>\n",
              "  "
            ]
          },
          "metadata": {},
          "execution_count": 5
        }
      ],
      "source": [
        "# Let's have a look at the data \n",
        "df.head()"
      ]
    },
    {
      "cell_type": "markdown",
      "metadata": {
        "id": "7zqGIlGIEzUo",
        "papermill": {
          "duration": 0.041799,
          "end_time": "2020-12-24T10:41:16.385313",
          "exception": false,
          "start_time": "2020-12-24T10:41:16.343514",
          "status": "completed"
        },
        "tags": []
      },
      "source": [
        "We can see that the most relevant column for us is content and replyContent and the score as well."
      ]
    },
    {
      "cell_type": "code",
      "execution_count": null,
      "metadata": {
        "execution": {
          "iopub.execute_input": "2020-12-24T10:41:16.479576Z",
          "iopub.status.busy": "2020-12-24T10:41:16.478724Z",
          "iopub.status.idle": "2020-12-24T10:41:16.486050Z",
          "shell.execute_reply": "2020-12-24T10:41:16.485379Z"
        },
        "id": "24xNLIJlEzUo",
        "outputId": "7e7f373d-b52f-43a0-bfe4-840314e607e1",
        "papermill": {
          "duration": 0.061493,
          "end_time": "2020-12-24T10:41:16.486170",
          "exception": false,
          "start_time": "2020-12-24T10:41:16.424677",
          "status": "completed"
        },
        "tags": [],
        "colab": {
          "base_uri": "https://localhost:8080/"
        }
      },
      "outputs": [
        {
          "output_type": "execute_result",
          "data": {
            "text/plain": [
              "textID           0\n",
              "text             1\n",
              "selected_text    1\n",
              "sentiment        0\n",
              "dtype: int64"
            ]
          },
          "metadata": {},
          "execution_count": 6
        }
      ],
      "source": [
        "# Let's check for missing values \n",
        "df.isnull().sum()"
      ]
    },
    {
      "cell_type": "code",
      "source": [
        "df.dropna(axis=0, how='any', thresh=None, subset=None, inplace=True)"
      ],
      "metadata": {
        "id": "vEqk_X35aRDS"
      },
      "execution_count": null,
      "outputs": []
    },
    {
      "cell_type": "markdown",
      "metadata": {
        "id": "YJjld_WSEzUt",
        "papermill": {
          "duration": 0.038675,
          "end_time": "2020-12-24T10:41:16.564411",
          "exception": false,
          "start_time": "2020-12-24T10:41:16.525736",
          "status": "completed"
        },
        "tags": []
      },
      "source": [
        "There are missing values in some of the columns but Content and score don't have a missing value. We can also look at the class balance. \n",
        "\n",
        "We will be alloting three classes:- \n",
        "1. Positive (Score: 4-5)\n",
        "2. Neutral (Score: 3)\n",
        "3. Negative (Score: 1-2)"
      ]
    },
    {
      "cell_type": "code",
      "source": [
        "# Import label encoder\n",
        "from sklearn import preprocessing\n",
        "  \n",
        "# label_encoder object knows how to understand word labels.\n",
        "label_encoder = preprocessing.LabelEncoder()\n",
        "  \n",
        "# Encode labels in column 'species'.\n",
        "df['sentiment_type']= label_encoder.fit_transform(df['sentiment'])\n",
        "  \n",
        "df['sentiment_type'].unique()"
      ],
      "metadata": {
        "colab": {
          "base_uri": "https://localhost:8080/"
        },
        "id": "lRoIxlG3aoiz",
        "outputId": "39bb5ff7-c00e-461b-e069-db840c9355f2"
      },
      "execution_count": null,
      "outputs": [
        {
          "output_type": "execute_result",
          "data": {
            "text/plain": [
              "array([1, 0, 2])"
            ]
          },
          "metadata": {},
          "execution_count": 8
        }
      ]
    },
    {
      "cell_type": "code",
      "source": [
        "df['sentiment_type'].value_counts()"
      ],
      "metadata": {
        "colab": {
          "base_uri": "https://localhost:8080/"
        },
        "id": "P5YIW1pZa42R",
        "outputId": "12c09d2c-6b7e-4f67-f2cd-271bdf491932"
      },
      "execution_count": null,
      "outputs": [
        {
          "output_type": "execute_result",
          "data": {
            "text/plain": [
              "1    11117\n",
              "2     8582\n",
              "0     7781\n",
              "Name: sentiment_type, dtype: int64"
            ]
          },
          "metadata": {},
          "execution_count": 9
        }
      ]
    },
    {
      "cell_type": "code",
      "source": [
        "df.sentiment_type.shape"
      ],
      "metadata": {
        "colab": {
          "base_uri": "https://localhost:8080/"
        },
        "id": "z8fnKG4IbTXo",
        "outputId": "8a71621a-c22b-4d1a-c20b-b9054af74564"
      },
      "execution_count": null,
      "outputs": [
        {
          "output_type": "execute_result",
          "data": {
            "text/plain": [
              "(27480,)"
            ]
          },
          "metadata": {},
          "execution_count": 10
        }
      ]
    },
    {
      "cell_type": "markdown",
      "metadata": {
        "id": "JeJSe1hIEzU5",
        "papermill": {
          "duration": 0.046531,
          "end_time": "2020-12-24T10:41:17.548560",
          "exception": false,
          "start_time": "2020-12-24T10:41:17.502029",
          "status": "completed"
        },
        "tags": []
      },
      "source": [
        "## Data Preprocessing\n",
        "\n",
        "Machine Learning models needs numeric data. So the raw text tweets needs to be converted to numerical values. \n",
        "Attention is all BERT needs so there are extra few requirements that needs to be taken care before using BERT model. \n",
        "\n",
        "Here are the pre-requisites:\n",
        "\n",
        "* Add special tokens to separate sentences and classify\n",
        "* Pass sequences of constant length (introduce padding)\n",
        "* Create array of 0s (pad token) and 1s (real token) called attention mask\n",
        "\n",
        "The tokenizer will break the sentence into words and give numerical values to each word. "
      ]
    },
    {
      "cell_type": "code",
      "execution_count": null,
      "metadata": {
        "execution": {
          "iopub.execute_input": "2020-12-24T10:41:17.650414Z",
          "iopub.status.busy": "2020-12-24T10:41:17.649643Z",
          "iopub.status.idle": "2020-12-24T10:41:18.012458Z",
          "shell.execute_reply": "2020-12-24T10:41:18.013323Z"
        },
        "id": "Uj5eXyqYEzU6",
        "outputId": "b483069b-3d0d-4f89-bde1-934c9588b92a",
        "papermill": {
          "duration": 0.416211,
          "end_time": "2020-12-24T10:41:18.013507",
          "exception": false,
          "start_time": "2020-12-24T10:41:17.597296",
          "status": "completed"
        },
        "tags": [],
        "colab": {
          "base_uri": "https://localhost:8080/",
          "height": 113,
          "referenced_widgets": [
            "7990b4fc84f14a4bb3ca736d3d412c6a",
            "e214a223ab424f788387070fd64b200a",
            "cd0e57905db64c9a8445d55dcfbee8d0",
            "d54fbe9201a24230800974a4fe517c3e",
            "43b62362b7f84ba88a78d36acbfe628f",
            "608e99636c6f4b2ebd8e7db1b77aca45",
            "0dc05b276c264409a2aad16d7635e310",
            "0d81efd696e442a784ea7777e02049fa",
            "3617df64bfea47c3b75c826158c98e95",
            "adf4fc46687e4c2197045857e10671da",
            "4cc41dcb7c604591ab8035dcfcc395d2",
            "009c1d51ab2d46afae9507dad8732bd5",
            "8a0bf9f7e02b4d4992cccf37b8e35f1f",
            "a7adb3a8f39444d3a3ab82291463778e",
            "4264fc0fd43d45c591bf71a87cd14ec4",
            "d261ba7b42b44acd874e2fa5572a043a",
            "655789f5fad9446fae09d85003447ef9",
            "f3de25b45c93426f913a656a7697b13d",
            "aede4ab4fb9c423ba05fc49336a48d06",
            "4dd2a63b86924733a566114ca027cd07",
            "e7716ce8d1cc4767892a715145386a1b",
            "873a43e59b6f4408a7f7a4ddd3d0bbd4",
            "3f0bba8bcc2c4a2a9cb8efceb11c896a",
            "4dbb9d453df84e48a0d67635db311c73",
            "3621c0f3bfeb45b994e4aa3f099e7edf",
            "a51157073a5d42a1b6ddeb18f400a2d6",
            "64131525781a41c093e75156368f891f",
            "6caac9e8812c4052a1899eb64b6aa7d1",
            "f440c4ab159646d4b46ede4ca98a1038",
            "b208a3745550467db43b7eb00341a636",
            "f5b71609eeec4cbeafd86a60963d823f",
            "399a21113d3c40fbb7dd604b16633361",
            "365c8d6b844b4e329e1ba5e3d21c8dca"
          ]
        }
      },
      "outputs": [
        {
          "output_type": "display_data",
          "data": {
            "text/plain": [
              "Downloading (…)solve/main/vocab.txt: 0.00B [00:00, ?B/s]"
            ],
            "application/vnd.jupyter.widget-view+json": {
              "version_major": 2,
              "version_minor": 0,
              "model_id": "7990b4fc84f14a4bb3ca736d3d412c6a"
            }
          },
          "metadata": {}
        },
        {
          "output_type": "display_data",
          "data": {
            "text/plain": [
              "Downloading (…)okenizer_config.json:   0%|          | 0.00/29.0 [00:00<?, ?B/s]"
            ],
            "application/vnd.jupyter.widget-view+json": {
              "version_major": 2,
              "version_minor": 0,
              "model_id": "009c1d51ab2d46afae9507dad8732bd5"
            }
          },
          "metadata": {}
        },
        {
          "output_type": "display_data",
          "data": {
            "text/plain": [
              "Downloading (…)lve/main/config.json:   0%|          | 0.00/570 [00:00<?, ?B/s]"
            ],
            "application/vnd.jupyter.widget-view+json": {
              "version_major": 2,
              "version_minor": 0,
              "model_id": "3f0bba8bcc2c4a2a9cb8efceb11c896a"
            }
          },
          "metadata": {}
        }
      ],
      "source": [
        "# Set the model name\n",
        "MODEL_NAME = 'bert-base-cased'\n",
        "\n",
        "# Build a BERT based tokenizer\n",
        "tokenizer = BertTokenizer.from_pretrained(MODEL_NAME, return_dict=False)"
      ]
    },
    {
      "cell_type": "code",
      "execution_count": null,
      "metadata": {
        "execution": {
          "iopub.execute_input": "2020-12-24T10:41:18.108462Z",
          "iopub.status.busy": "2020-12-24T10:41:18.107459Z",
          "iopub.status.idle": "2020-12-24T10:41:18.112252Z",
          "shell.execute_reply": "2020-12-24T10:41:18.112730Z"
        },
        "id": "5XqmI4AZEzU9",
        "outputId": "ac694194-e0ed-426a-d684-e8e2adc47582",
        "papermill": {
          "duration": 0.054842,
          "end_time": "2020-12-24T10:41:18.112852",
          "exception": false,
          "start_time": "2020-12-24T10:41:18.058010",
          "status": "completed"
        },
        "tags": [],
        "colab": {
          "base_uri": "https://localhost:8080/"
        }
      },
      "outputs": [
        {
          "output_type": "stream",
          "name": "stdout",
          "text": [
            "[SEP] 102\n",
            "[CLS] 101\n",
            "[PAD] 0\n",
            "[UNK] 100\n"
          ]
        }
      ],
      "source": [
        "# Some of the common BERT tokens\n",
        "print(tokenizer.sep_token, tokenizer.sep_token_id) # marker for ending of a sentence\n",
        "print(tokenizer.cls_token, tokenizer.cls_token_id) # start of each sentence, so BERT knows we’re doing classification\n",
        "print(tokenizer.pad_token, tokenizer.pad_token_id) # special token for padding\n",
        "print(tokenizer.unk_token, tokenizer.unk_token_id) # tokens not found in training set "
      ]
    },
    {
      "cell_type": "markdown",
      "metadata": {
        "id": "r-ridSzLEzVA",
        "papermill": {
          "duration": 0.05214,
          "end_time": "2020-12-24T10:41:18.210048",
          "exception": false,
          "start_time": "2020-12-24T10:41:18.157908",
          "status": "completed"
        },
        "tags": []
      },
      "source": [
        "BERT works with fixed-length sequences. We’ll use a simple strategy to choose the max length. Let’s store the token length of each tweet."
      ]
    },
    {
      "cell_type": "code",
      "execution_count": null,
      "metadata": {
        "execution": {
          "iopub.execute_input": "2020-12-24T10:41:18.303902Z",
          "iopub.status.busy": "2020-12-24T10:41:18.303283Z",
          "iopub.status.idle": "2020-12-24T10:41:30.634812Z",
          "shell.execute_reply": "2020-12-24T10:41:30.633839Z"
        },
        "id": "oBIUYNVoEzVB",
        "outputId": "8162ed9c-c3ae-46c5-f312-767253046a22",
        "papermill": {
          "duration": 12.38078,
          "end_time": "2020-12-24T10:41:30.634937",
          "exception": false,
          "start_time": "2020-12-24T10:41:18.254157",
          "status": "completed"
        },
        "tags": [],
        "colab": {
          "base_uri": "https://localhost:8080/"
        }
      },
      "outputs": [
        {
          "output_type": "stream",
          "name": "stderr",
          "text": [
            "Truncation was not explicitly activated but `max_length` is provided a specific value, please use `truncation=True` to explicitly truncate examples to max length. Defaulting to 'longest_first' truncation strategy. If you encode pairs of sequences (GLUE-style) with the tokenizer you can select this strategy more precisely by providing a specific strategy to `truncation`.\n"
          ]
        }
      ],
      "source": [
        "# Store length of each review \n",
        "token_lens = []\n",
        "\n",
        "# Iterate through the content slide\n",
        "for txt in df.text:\n",
        "    tokens = tokenizer.encode(txt, max_length=512)\n",
        "    token_lens.append(len(tokens))"
      ]
    },
    {
      "cell_type": "code",
      "source": [
        "class_names = ['negative', 'neutral', 'positive']"
      ],
      "metadata": {
        "id": "RaG23yfKdIUq"
      },
      "execution_count": null,
      "outputs": []
    },
    {
      "cell_type": "code",
      "execution_count": null,
      "metadata": {
        "execution": {
          "iopub.execute_input": "2020-12-24T10:41:30.738145Z",
          "iopub.status.busy": "2020-12-24T10:41:30.736954Z",
          "iopub.status.idle": "2020-12-24T10:41:31.174710Z",
          "shell.execute_reply": "2020-12-24T10:41:31.175269Z"
        },
        "id": "bpVn-ndyEzVE",
        "outputId": "16060e17-dc5c-4e48-bf13-5bdf430a2b0a",
        "papermill": {
          "duration": 0.494561,
          "end_time": "2020-12-24T10:41:31.175429",
          "exception": false,
          "start_time": "2020-12-24T10:41:30.680868",
          "status": "completed"
        },
        "tags": [],
        "colab": {
          "base_uri": "https://localhost:8080/",
          "height": 728
        }
      },
      "outputs": [
        {
          "output_type": "execute_result",
          "data": {
            "text/plain": [
              "Text(0.5, 0, 'Token count')"
            ]
          },
          "metadata": {},
          "execution_count": 15
        },
        {
          "output_type": "display_data",
          "data": {
            "text/plain": [
              "<Figure size 1200x800 with 1 Axes>"
            ],
            "image/png": "[encoded data removed]"
          },
          "metadata": {
            "image/png": {
              "width": 1046,
              "height": 693
            }
          }
        }
      ],
      "source": [
        "# plot the distribution of review lengths \n",
        "sns.distplot(token_lens)\n",
        "plt.xlim([0, 100]);\n",
        "plt.xlabel('Token count')"
      ]
    },
    {
      "cell_type": "markdown",
      "metadata": {
        "id": "QMj924FHEzVI",
        "papermill": {
          "duration": 0.046157,
          "end_time": "2020-12-24T10:41:31.270741",
          "exception": false,
          "start_time": "2020-12-24T10:41:31.224584",
          "status": "completed"
        },
        "tags": []
      },
      "source": [
        "Most of the tweets seem to contain less than 80 tokens, but we’ll be on the safe side and choose a maximum length of 100. "
      ]
    },
    {
      "cell_type": "code",
      "execution_count": null,
      "metadata": {
        "execution": {
          "iopub.execute_input": "2020-12-24T10:41:31.369565Z",
          "iopub.status.busy": "2020-12-24T10:41:31.368714Z",
          "iopub.status.idle": "2020-12-24T10:41:31.371640Z",
          "shell.execute_reply": "2020-12-24T10:41:31.371105Z"
        },
        "id": "blPAZJOPEzVJ",
        "papermill": {
          "duration": 0.053793,
          "end_time": "2020-12-24T10:41:31.371748",
          "exception": false,
          "start_time": "2020-12-24T10:41:31.317955",
          "status": "completed"
        },
        "tags": []
      },
      "outputs": [],
      "source": [
        "MAX_LEN = 100"
      ]
    },
    {
      "cell_type": "code",
      "execution_count": null,
      "metadata": {
        "execution": {
          "iopub.execute_input": "2020-12-24T10:41:31.568644Z",
          "iopub.status.busy": "2020-12-24T10:41:31.567775Z",
          "iopub.status.idle": "2020-12-24T10:41:31.570989Z",
          "shell.execute_reply": "2020-12-24T10:41:31.570459Z"
        },
        "id": "Sbakw3KIEzVM",
        "papermill": {
          "duration": 0.060402,
          "end_time": "2020-12-24T10:41:31.571088",
          "exception": false,
          "start_time": "2020-12-24T10:41:31.510686",
          "status": "completed"
        },
        "tags": []
      },
      "outputs": [],
      "source": [
        "class TweetDataset(Dataset):\n",
        "    # Constructor Function \n",
        "    def __init__(self, tweets, targets, tokenizer, max_len):\n",
        "        self.tweets = tweets\n",
        "        self.targets = targets\n",
        "        self.tokenizer = tokenizer\n",
        "        self.max_len = max_len\n",
        "    \n",
        "    # Length magic method\n",
        "    def __len__(self):\n",
        "        return len(self.tweets)\n",
        "    \n",
        "    # get item magic method\n",
        "    def __getitem__(self, item):\n",
        "        tweets = str(self.tweets[item])\n",
        "        target = self.targets[item]\n",
        "        \n",
        "        # Encoded format to be returned \n",
        "        encoding = self.tokenizer.encode_plus(\n",
        "            tweets,\n",
        "            add_special_tokens=True,\n",
        "            max_length=self.max_len,\n",
        "            return_token_type_ids=False,\n",
        "            pad_to_max_length=True,\n",
        "            return_attention_mask=True,\n",
        "            return_tensors='pt',\n",
        "        )\n",
        "        \n",
        "        return {\n",
        "            'tweet_text': tweets,\n",
        "            'input_ids': encoding['input_ids'].flatten(),\n",
        "            'attention_mask': encoding['attention_mask'].flatten(),\n",
        "            'targets': torch.tensor(target, dtype=torch.long)\n",
        "        }"
      ]
    },
    {
      "cell_type": "markdown",
      "metadata": {
        "id": "Q4_AxWjuEzVP",
        "papermill": {
          "duration": 0.048421,
          "end_time": "2020-12-24T10:41:31.666280",
          "exception": false,
          "start_time": "2020-12-24T10:41:31.617859",
          "status": "completed"
        },
        "tags": []
      },
      "source": [
        "Create a 80% train data and 10% test and 10% validation data"
      ]
    },
    {
      "cell_type": "code",
      "execution_count": null,
      "metadata": {
        "execution": {
          "iopub.execute_input": "2020-12-24T10:41:31.767347Z",
          "iopub.status.busy": "2020-12-24T10:41:31.766622Z",
          "iopub.status.idle": "2020-12-24T10:41:31.779725Z",
          "shell.execute_reply": "2020-12-24T10:41:31.780320Z"
        },
        "id": "qIXH-Y-gEzVQ",
        "outputId": "3cd16a27-2d93-45ed-a793-bdb046e74cd4",
        "papermill": {
          "duration": 0.066803,
          "end_time": "2020-12-24T10:41:31.780437",
          "exception": false,
          "start_time": "2020-12-24T10:41:31.713634",
          "status": "completed"
        },
        "tags": [],
        "colab": {
          "base_uri": "https://localhost:8080/"
        }
      },
      "outputs": [
        {
          "output_type": "stream",
          "name": "stdout",
          "text": [
            "(21984, 5) (2748, 5) (2748, 5)\n"
          ]
        }
      ],
      "source": [
        "df_train, df_test = train_test_split(df, test_size=0.2, random_state=RANDOM_SEED)\n",
        "df_val, df_test = train_test_split(df_test, test_size=0.5, random_state=RANDOM_SEED)\n",
        "\n",
        "print(df_train.shape, df_val.shape, df_test.shape)"
      ]
    },
    {
      "cell_type": "markdown",
      "metadata": {
        "id": "SQeS3OqGEzVS",
        "papermill": {
          "duration": 0.04786,
          "end_time": "2020-12-24T10:41:31.875781",
          "exception": false,
          "start_time": "2020-12-24T10:41:31.827921",
          "status": "completed"
        },
        "tags": []
      },
      "source": [
        "Create a dataloader to release data in batches."
      ]
    },
    {
      "cell_type": "code",
      "execution_count": null,
      "metadata": {
        "execution": {
          "iopub.execute_input": "2020-12-24T10:41:31.979571Z",
          "iopub.status.busy": "2020-12-24T10:41:31.978811Z",
          "iopub.status.idle": "2020-12-24T10:41:31.981390Z",
          "shell.execute_reply": "2020-12-24T10:41:31.981829Z"
        },
        "id": "c7SCbUlmEzVT",
        "papermill": {
          "duration": 0.05686,
          "end_time": "2020-12-24T10:41:31.981949",
          "exception": false,
          "start_time": "2020-12-24T10:41:31.925089",
          "status": "completed"
        },
        "tags": []
      },
      "outputs": [],
      "source": [
        "def create_data_loader(df, tokenizer, max_len, batch_size):\n",
        "    ds = TweetDataset(\n",
        "        tweets=df.text.to_numpy(),\n",
        "        targets=df.sentiment_type.to_numpy(),\n",
        "        tokenizer=tokenizer,\n",
        "        max_len=max_len\n",
        "    )\n",
        "    \n",
        "    return DataLoader(\n",
        "        ds,\n",
        "        batch_size=batch_size,\n",
        "        num_workers=0\n",
        "    )"
      ]
    },
    {
      "cell_type": "code",
      "execution_count": null,
      "metadata": {
        "execution": {
          "iopub.execute_input": "2020-12-24T10:41:32.082837Z",
          "iopub.status.busy": "2020-12-24T10:41:32.082102Z",
          "iopub.status.idle": "2020-12-24T10:41:32.085210Z",
          "shell.execute_reply": "2020-12-24T10:41:32.084611Z"
        },
        "id": "31-GApKIEzVW",
        "papermill": {
          "duration": 0.056072,
          "end_time": "2020-12-24T10:41:32.085330",
          "exception": false,
          "start_time": "2020-12-24T10:41:32.029258",
          "status": "completed"
        },
        "tags": []
      },
      "outputs": [],
      "source": [
        "# Create train, test and val data loaders\n",
        "BATCH_SIZE = 16\n",
        "train_data_loader = create_data_loader(df_train, tokenizer, MAX_LEN, BATCH_SIZE)\n",
        "val_data_loader = create_data_loader(df_val, tokenizer, MAX_LEN, BATCH_SIZE)\n",
        "test_data_loader = create_data_loader(df_test, tokenizer, MAX_LEN, BATCH_SIZE)"
      ]
    },
    {
      "cell_type": "code",
      "execution_count": null,
      "metadata": {
        "execution": {
          "iopub.execute_input": "2020-12-24T10:41:32.190215Z",
          "iopub.status.busy": "2020-12-24T10:41:32.189523Z",
          "iopub.status.idle": "2020-12-24T10:41:32.253363Z",
          "shell.execute_reply": "2020-12-24T10:41:32.252522Z"
        },
        "id": "6ZPtu0jjEzVc",
        "outputId": "9439c78a-2b2f-47a6-cdc5-22f985038129",
        "papermill": {
          "duration": 0.120723,
          "end_time": "2020-12-24T10:41:32.253507",
          "exception": false,
          "start_time": "2020-12-24T10:41:32.132784",
          "status": "completed"
        },
        "tags": [],
        "colab": {
          "base_uri": "https://localhost:8080/"
        }
      },
      "outputs": [
        {
          "output_type": "stream",
          "name": "stdout",
          "text": [
            "dict_keys(['tweet_text', 'input_ids', 'attention_mask', 'targets'])\n",
            "torch.Size([16, 100])\n",
            "torch.Size([16, 100])\n",
            "torch.Size([16])\n"
          ]
        }
      ],
      "source": [
        "# Examples \n",
        "data = next(iter(train_data_loader))\n",
        "print(data.keys())\n",
        "\n",
        "print(data['input_ids'].shape)\n",
        "print(data['attention_mask'].shape)\n",
        "print(data['targets'].shape)"
      ]
    },
    {
      "cell_type": "markdown",
      "metadata": {
        "id": "bnRQaNQ0EzVf",
        "papermill": {
          "duration": 0.048441,
          "end_time": "2020-12-24T10:41:32.351223",
          "exception": false,
          "start_time": "2020-12-24T10:41:32.302782",
          "status": "completed"
        },
        "tags": []
      },
      "source": [
        "We’ll use the basic BertModel and build our sentiment classifier on top of it. Let’s load the model"
      ]
    },
    {
      "cell_type": "code",
      "execution_count": null,
      "metadata": {
        "execution": {
          "iopub.execute_input": "2020-12-24T10:41:32.457733Z",
          "iopub.status.busy": "2020-12-24T10:41:32.456781Z",
          "iopub.status.idle": "2020-12-24T10:41:50.267491Z",
          "shell.execute_reply": "2020-12-24T10:41:50.266932Z"
        },
        "id": "1oVuK0UUEzVg",
        "outputId": "72790715-655c-4e7d-a579-7dd316b45591",
        "papermill": {
          "duration": 17.866026,
          "end_time": "2020-12-24T10:41:50.267604",
          "exception": false,
          "start_time": "2020-12-24T10:41:32.401578",
          "status": "completed"
        },
        "tags": [],
        "colab": {
          "base_uri": "https://localhost:8080/",
          "height": 123,
          "referenced_widgets": [
            "729cb517c5e34404a6a27e93d0541f09",
            "d3fd4eef1b374e898a37427189129d85",
            "6baa019a7c1e40fea2900e193ad068cf",
            "2d88bc5ae5834b55b30167a7ecbd55e3",
            "318ab90db4274d1c9bf6df7b43c9936f",
            "d264ddf715574a9bb44086ef951e091d",
            "bf7341bad2604df2874942e5a694c89f",
            "1a6649141d354c6fb70bda4417c0cf16",
            "6f2483bc1a9943acb639ce933857b6dd",
            "e11d4e7e3ec149b7a92584419054a44a",
            "9f4a5135dd1e4173ae02e0ae5e2ac82b"
          ]
        }
      },
      "outputs": [
        {
          "output_type": "display_data",
          "data": {
            "text/plain": [
              "Downloading pytorch_model.bin:   0%|          | 0.00/436M [00:00<?, ?B/s]"
            ],
            "application/vnd.jupyter.widget-view+json": {
              "version_major": 2,
              "version_minor": 0,
              "model_id": "729cb517c5e34404a6a27e93d0541f09"
            }
          },
          "metadata": {}
        },
        {
          "output_type": "stream",
          "name": "stderr",
          "text": [
            "Some weights of the model checkpoint at bert-base-cased were not used when initializing BertModel: ['cls.predictions.bias', 'cls.predictions.transform.dense.bias', 'cls.predictions.transform.LayerNorm.bias', 'cls.predictions.transform.dense.weight', 'cls.predictions.transform.LayerNorm.weight', 'cls.seq_relationship.weight', 'cls.predictions.decoder.weight', 'cls.seq_relationship.bias']\n",
            "- This IS expected if you are initializing BertModel from the checkpoint of a model trained on another task or with another architecture (e.g. initializing a BertForSequenceClassification model from a BertForPreTraining model).\n",
            "- This IS NOT expected if you are initializing BertModel from the checkpoint of a model that you expect to be exactly identical (initializing a BertForSequenceClassification model from a BertForSequenceClassification model).\n"
          ]
        }
      ],
      "source": [
        "# Load the basic BERT model \n",
        "bert_model = BertModel.from_pretrained(MODEL_NAME)"
      ]
    },
    {
      "cell_type": "code",
      "execution_count": null,
      "metadata": {
        "execution": {
          "iopub.execute_input": "2020-12-24T10:41:50.376842Z",
          "iopub.status.busy": "2020-12-24T10:41:50.375908Z",
          "iopub.status.idle": "2020-12-24T10:41:50.378922Z",
          "shell.execute_reply": "2020-12-24T10:41:50.378458Z"
        },
        "id": "v98I1vshEzVi",
        "papermill": {
          "duration": 0.060877,
          "end_time": "2020-12-24T10:41:50.379037",
          "exception": false,
          "start_time": "2020-12-24T10:41:50.318160",
          "status": "completed"
        },
        "tags": []
      },
      "outputs": [],
      "source": [
        "# Build the Sentiment Classifier class \n",
        "class SentimentClassifier(nn.Module):\n",
        "    \n",
        "    # Constructor class \n",
        "    def __init__(self, n_classes):\n",
        "        super(SentimentClassifier, self).__init__()\n",
        "        self.bert = BertModel.from_pretrained(MODEL_NAME)\n",
        "        self.drop = nn.Dropout(p=0.3)\n",
        "        self.out = nn.Linear(self.bert.config.hidden_size, n_classes)\n",
        "    \n",
        "    # Forward propagaion class\n",
        "    def forward(self, input_ids, attention_mask, token_type_ids=None,\n",
        "            position_ids=None, head_mask=None, labels=None):\n",
        "        _, pooled_output = self.bert(\n",
        "          input_ids=input_ids,\n",
        "          attention_mask=attention_mask, return_dict=False\n",
        "        )\n",
        "        #  Add a dropout layer \n",
        "        output = self.drop(pooled_output)\n",
        "        return self.out(output)"
      ]
    },
    {
      "cell_type": "markdown",
      "metadata": {
        "id": "MXyrki17EzVl",
        "papermill": {
          "duration": 0.049023,
          "end_time": "2020-12-24T10:41:50.477794",
          "exception": false,
          "start_time": "2020-12-24T10:41:50.428771",
          "status": "completed"
        },
        "tags": []
      },
      "source": [
        "A dropout layer is added for some regularization and a fully-connected layer for the output. "
      ]
    },
    {
      "cell_type": "code",
      "execution_count": null,
      "metadata": {
        "execution": {
          "iopub.execute_input": "2020-12-24T10:41:50.583037Z",
          "iopub.status.busy": "2020-12-24T10:41:50.582302Z",
          "iopub.status.idle": "2020-12-24T10:41:59.306892Z",
          "shell.execute_reply": "2020-12-24T10:41:59.305748Z"
        },
        "id": "5eh4ytjBEzVm",
        "papermill": {
          "duration": 8.77967,
          "end_time": "2020-12-24T10:41:59.307056",
          "exception": false,
          "start_time": "2020-12-24T10:41:50.527386",
          "status": "completed"
        },
        "tags": [],
        "colab": {
          "base_uri": "https://localhost:8080/"
        },
        "outputId": "07a5ce69-4410-4cda-a330-11b6267ac736"
      },
      "outputs": [
        {
          "output_type": "stream",
          "name": "stderr",
          "text": [
            "Some weights of the model checkpoint at bert-base-cased were not used when initializing BertModel: ['cls.predictions.bias', 'cls.predictions.transform.dense.bias', 'cls.predictions.transform.LayerNorm.bias', 'cls.predictions.transform.dense.weight', 'cls.predictions.transform.LayerNorm.weight', 'cls.seq_relationship.weight', 'cls.predictions.decoder.weight', 'cls.seq_relationship.bias']\n",
            "- This IS expected if you are initializing BertModel from the checkpoint of a model trained on another task or with another architecture (e.g. initializing a BertForSequenceClassification model from a BertForPreTraining model).\n",
            "- This IS NOT expected if you are initializing BertModel from the checkpoint of a model that you expect to be exactly identical (initializing a BertForSequenceClassification model from a BertForSequenceClassification model).\n"
          ]
        }
      ],
      "source": [
        "# Instantiate the model and move to classifier\n",
        "model = SentimentClassifier(len(class_names))\n",
        "model = model.to(device)"
      ]
    },
    {
      "cell_type": "markdown",
      "metadata": {
        "id": "wqNrk3laEzVr",
        "papermill": {
          "duration": 0.060036,
          "end_time": "2020-12-24T10:41:59.423396",
          "exception": false,
          "start_time": "2020-12-24T10:41:59.363360",
          "status": "completed"
        },
        "tags": []
      },
      "source": [
        "#### Model Characterstics"
      ]
    },
    {
      "cell_type": "code",
      "execution_count": null,
      "metadata": {
        "execution": {
          "iopub.execute_input": "2020-12-24T10:41:59.528843Z",
          "iopub.status.busy": "2020-12-24T10:41:59.528127Z",
          "iopub.status.idle": "2020-12-24T10:41:59.532610Z",
          "shell.execute_reply": "2020-12-24T10:41:59.531947Z"
        },
        "id": "iFkXhnrLEzVr",
        "outputId": "fb228279-402e-441e-b7a9-1ff7b29c0532",
        "papermill": {
          "duration": 0.059323,
          "end_time": "2020-12-24T10:41:59.532712",
          "exception": false,
          "start_time": "2020-12-24T10:41:59.473389",
          "status": "completed"
        },
        "tags": [],
        "colab": {
          "base_uri": "https://localhost:8080/"
        }
      },
      "outputs": [
        {
          "output_type": "stream",
          "name": "stdout",
          "text": [
            "768\n"
          ]
        }
      ],
      "source": [
        "# Number of hidden units\n",
        "print(bert_model.config.hidden_size)"
      ]
    },
    {
      "cell_type": "markdown",
      "metadata": {
        "id": "_TcSxv4NEzVv",
        "papermill": {
          "duration": 0.05052,
          "end_time": "2020-12-24T10:41:59.634585",
          "exception": false,
          "start_time": "2020-12-24T10:41:59.584065",
          "status": "completed"
        },
        "tags": []
      },
      "source": [
        "### Training Phase\n",
        "\n",
        "we’ll use the AdamW optimizer provided by Hugging Face. It corrects weight decay. We’ll also use a linear scheduler with no warmup"
      ]
    },
    {
      "cell_type": "code",
      "execution_count": null,
      "metadata": {
        "execution": {
          "iopub.execute_input": "2020-12-24T10:41:59.749869Z",
          "iopub.status.busy": "2020-12-24T10:41:59.748840Z",
          "iopub.status.idle": "2020-12-24T10:41:59.751476Z",
          "shell.execute_reply": "2020-12-24T10:41:59.752019Z"
        },
        "id": "CEQfhsdnEzVw",
        "papermill": {
          "duration": 0.065207,
          "end_time": "2020-12-24T10:41:59.752162",
          "exception": false,
          "start_time": "2020-12-24T10:41:59.686955",
          "status": "completed"
        },
        "tags": []
      },
      "outputs": [],
      "source": [
        "# Number of iterations \n",
        "EPOCHS = 10\n",
        "\n",
        "# Optimizer Adam \n",
        "optimizer = AdamW(model.parameters(), lr=2e-5, correct_bias=False)\n",
        "\n",
        "total_steps = len(train_data_loader) * EPOCHS\n",
        "\n",
        "scheduler = get_linear_schedule_with_warmup(\n",
        "    optimizer,\n",
        "    num_warmup_steps=0,\n",
        "    num_training_steps=total_steps\n",
        ")\n",
        "\n",
        "# Set the loss function \n",
        "loss_fn = nn.CrossEntropyLoss().to(device)"
      ]
    },
    {
      "cell_type": "code",
      "execution_count": null,
      "metadata": {
        "execution": {
          "iopub.execute_input": "2020-12-24T10:41:59.867453Z",
          "iopub.status.busy": "2020-12-24T10:41:59.866610Z",
          "iopub.status.idle": "2020-12-24T10:41:59.869859Z",
          "shell.execute_reply": "2020-12-24T10:41:59.869295Z"
        },
        "id": "jYmCvwhmEzVz",
        "papermill": {
          "duration": 0.065214,
          "end_time": "2020-12-24T10:41:59.870001",
          "exception": false,
          "start_time": "2020-12-24T10:41:59.804787",
          "status": "completed"
        },
        "tags": []
      },
      "outputs": [],
      "source": [
        "# Function for a single training iteration\n",
        "def train_epoch(model, data_loader, loss_fn, optimizer, device, scheduler, n_examples):\n",
        "    model = model.train()\n",
        "    losses = []\n",
        "    correct_predictions = 0\n",
        "    \n",
        "    for d in data_loader:\n",
        "        input_ids = d[\"input_ids\"].to(device)\n",
        "        attention_mask = d[\"attention_mask\"].to(device)\n",
        "        targets = d[\"targets\"].to(device)\n",
        "        \n",
        "        outputs = model(\n",
        "            input_ids=input_ids,\n",
        "            attention_mask=attention_mask\n",
        "        )\n",
        "        \n",
        "        _, preds = torch.max(outputs, dim=1)\n",
        "        loss = loss_fn(outputs, targets)\n",
        "        correct_predictions += torch.sum(preds == targets)\n",
        "        losses.append(loss.item())\n",
        "        \n",
        "        # Backward prop\n",
        "        loss.backward()\n",
        "        \n",
        "        # Gradient Descent\n",
        "        nn.utils.clip_grad_norm_(model.parameters(), max_norm=1.0)\n",
        "        optimizer.step()\n",
        "        scheduler.step()\n",
        "        optimizer.zero_grad()\n",
        "    \n",
        "    return correct_predictions.double() / n_examples, np.mean(losses)"
      ]
    },
    {
      "cell_type": "markdown",
      "metadata": {
        "id": "qSUZ7gXeEzV2",
        "papermill": {
          "duration": 0.057944,
          "end_time": "2020-12-24T10:41:59.979709",
          "exception": false,
          "start_time": "2020-12-24T10:41:59.921765",
          "status": "completed"
        },
        "tags": []
      },
      "source": [
        "Funtion for model evaluation"
      ]
    },
    {
      "cell_type": "code",
      "execution_count": null,
      "metadata": {
        "execution": {
          "iopub.execute_input": "2020-12-24T10:42:00.148855Z",
          "iopub.status.busy": "2020-12-24T10:42:00.147970Z",
          "iopub.status.idle": "2020-12-24T10:42:00.160244Z",
          "shell.execute_reply": "2020-12-24T10:42:00.161031Z"
        },
        "id": "Yil2jCZfEzV2",
        "papermill": {
          "duration": 0.104335,
          "end_time": "2020-12-24T10:42:00.161195",
          "exception": false,
          "start_time": "2020-12-24T10:42:00.056860",
          "status": "completed"
        },
        "tags": []
      },
      "outputs": [],
      "source": [
        "def eval_model(model, data_loader, loss_fn, device, n_examples):\n",
        "    model = model.eval()\n",
        "    \n",
        "    losses = []\n",
        "    correct_predictions = 0\n",
        "    \n",
        "    with torch.no_grad():\n",
        "        for d in data_loader:\n",
        "            input_ids = d[\"input_ids\"].to(device)\n",
        "            attention_mask = d[\"attention_mask\"].to(device)\n",
        "            targets = d[\"targets\"].to(device)\n",
        "            \n",
        "            # Get model ouptuts\n",
        "            outputs = model(\n",
        "                input_ids=input_ids,\n",
        "                attention_mask=attention_mask)\n",
        "            \n",
        "            _, preds = torch.max(outputs, dim=1)\n",
        "            loss = loss_fn(outputs, targets)\n",
        "            \n",
        "            correct_predictions += torch.sum(preds == targets)\n",
        "            losses.append(loss.item())\n",
        "            \n",
        "    return correct_predictions.double() / n_examples, np.mean(losses)"
      ]
    },
    {
      "cell_type": "markdown",
      "metadata": {
        "id": "vZRB5jbrEzV5",
        "papermill": {
          "duration": 0.087181,
          "end_time": "2020-12-24T10:42:00.362419",
          "exception": false,
          "start_time": "2020-12-24T10:42:00.275238",
          "status": "completed"
        },
        "tags": []
      },
      "source": [
        "training Loop and store the best training state."
      ]
    },
    {
      "cell_type": "code",
      "execution_count": null,
      "metadata": {
        "execution": {
          "iopub.execute_input": "2020-12-24T10:42:00.536805Z",
          "iopub.status.busy": "2020-12-24T10:42:00.535917Z",
          "iopub.status.idle": "2020-12-24T11:16:59.315127Z",
          "shell.execute_reply": "2020-12-24T11:16:59.316098Z"
        },
        "id": "tz0rylI3EzV5",
        "outputId": "ad4d9812-889e-48e3-b396-7f8b821a8185",
        "papermill": {
          "duration": 2098.864629,
          "end_time": "2020-12-24T11:16:59.316295",
          "exception": false,
          "start_time": "2020-12-24T10:42:00.451666",
          "status": "completed"
        },
        "tags": [],
        "colab": {
          "base_uri": "https://localhost:8080/"
        }
      },
      "outputs": [
        {
          "output_type": "stream",
          "name": "stdout",
          "text": [
            "Epoch 1/10\n",
            "----------\n",
            "Train loss 0.6160537631317344 accuracy 0.7513646288209608\n",
            "Val   loss 0.5352744570998258 accuracy 0.787117903930131\n",
            "\n",
            "Epoch 2/10\n",
            "----------\n",
            "Train loss 0.42339050848161724 accuracy 0.8417940320232897\n",
            "Val   loss 0.6107923067932906 accuracy 0.7842066957787482\n",
            "\n",
            "Epoch 3/10\n",
            "----------\n",
            "Train loss 0.29580003639555696 accuracy 0.9015647743813683\n",
            "Val   loss 0.8335150523912594 accuracy 0.7765647743813683\n",
            "\n",
            "Epoch 4/10\n",
            "----------\n",
            "Train loss 0.21372258163083024 accuracy 0.9395469432314411\n",
            "Val   loss 1.0586927124559014 accuracy 0.7714701601164483\n",
            "\n",
            "Epoch 5/10\n",
            "----------\n",
            "Train loss 0.16460860461309101 accuracy 0.9582423580786027\n",
            "Val   loss 1.2010207080044026 accuracy 0.772197962154294\n",
            "\n",
            "Epoch 6/10\n",
            "----------\n",
            "Train loss 0.12339253077482441 accuracy 0.9710698689956332\n",
            "Val   loss 1.3258317602834893 accuracy 0.7703784570596798\n",
            "\n",
            "Epoch 7/10\n",
            "----------\n",
            "Train loss 0.09231682684859857 accuracy 0.9793486171761281\n",
            "Val   loss 1.4374186363894232 accuracy 0.7671033478893742\n",
            "\n",
            "Epoch 8/10\n",
            "----------\n",
            "Train loss 0.0772135379748606 accuracy 0.9833970160116449\n",
            "Val   loss 1.5276313216877604 accuracy 0.7736535662299855\n",
            "\n",
            "Epoch 9/10\n",
            "----------\n",
            "Train loss 0.058886069396912835 accuracy 0.9874454148471616\n",
            "Val   loss 1.5916070829725657 accuracy 0.7732896652110627\n",
            "\n",
            "Epoch 10/10\n",
            "----------\n",
            "Train loss 0.047725890142624704 accuracy 0.989674308588064\n",
            "Val   loss 1.6068256426918006 accuracy 0.7732896652110627\n",
            "\n",
            "CPU times: user 1h 53s, sys: 37 s, total: 1h 1min 30s\n",
            "Wall time: 1h 2min 7s\n"
          ]
        }
      ],
      "source": [
        "%%time\n",
        "\n",
        "history = defaultdict(list)\n",
        "best_accuracy = 0\n",
        "\n",
        "for epoch in range(EPOCHS):\n",
        "    \n",
        "    # Show details \n",
        "    print(f\"Epoch {epoch + 1}/{EPOCHS}\")\n",
        "    print(\"-\" * 10)\n",
        "    \n",
        "    train_acc, train_loss = train_epoch(\n",
        "        model,\n",
        "        train_data_loader,\n",
        "        loss_fn,\n",
        "        optimizer,\n",
        "        device,\n",
        "        scheduler,\n",
        "        len(df_train)\n",
        "    )\n",
        "    \n",
        "    print(f\"Train loss {train_loss} accuracy {train_acc}\")\n",
        "    \n",
        "    # Get model performance (accuracy and loss)\n",
        "    val_acc, val_loss = eval_model(\n",
        "        model,\n",
        "        val_data_loader,\n",
        "        loss_fn,\n",
        "        device,\n",
        "        len(df_val)\n",
        "    )\n",
        "    \n",
        "    print(f\"Val   loss {val_loss} accuracy {val_acc}\")\n",
        "    print()\n",
        "    \n",
        "    history['train_acc'].append(train_acc)\n",
        "    history['train_loss'].append(train_loss)\n",
        "    history['val_acc'].append(val_acc)\n",
        "    history['val_loss'].append(val_loss)\n",
        "    \n",
        "    # If we beat prev performance\n",
        "    if val_acc > best_accuracy:\n",
        "        torch.save(model.state_dict(), 'best_model_state.bin')\n",
        "        best_accuracy = val_acc"
      ]
    },
    {
      "cell_type": "markdown",
      "metadata": {
        "id": "h197cMl1Hve2",
        "papermill": {
          "duration": 0.058532,
          "end_time": "2020-12-24T11:16:59.433904",
          "exception": false,
          "start_time": "2020-12-24T11:16:59.375372",
          "status": "completed"
        },
        "tags": []
      },
      "source": [
        "The above took a lot of time but it's finally working. Now, we can plot the training and validation accuracy."
      ]
    },
    {
      "cell_type": "code",
      "source": [
        "print(max(history['train_acc']))\n",
        "print(min(history['train_loss']))\n",
        "print(max(history['val_acc']))\n",
        "print(min(history['val_loss']))"
      ],
      "metadata": {
        "colab": {
          "base_uri": "https://localhost:8080/"
        },
        "id": "TIQboJT1fJyJ",
        "outputId": "9715d3ff-706e-44f8-9881-b4403947b684"
      },
      "execution_count": null,
      "outputs": [
        {
          "output_type": "stream",
          "name": "stdout",
          "text": [
            "tensor(0.9897, device='cuda:0', dtype=torch.float64)\n",
            "0.047725890142624704\n",
            "tensor(0.7871, device='cuda:0', dtype=torch.float64)\n",
            "0.5352744570998258\n"
          ]
        }
      ]
    },
    {
      "cell_type": "code",
      "source": [
        "tensor_list_cpu_val = [tensor_val.cpu() for tensor_val in history['val_acc']]"
      ],
      "metadata": {
        "id": "ZtLcbyyoXd-M"
      },
      "execution_count": null,
      "outputs": []
    },
    {
      "cell_type": "code",
      "execution_count": null,
      "metadata": {
        "execution": {
          "iopub.execute_input": "2020-12-24T11:16:59.555899Z",
          "iopub.status.busy": "2020-12-24T11:16:59.555051Z",
          "iopub.status.idle": "2020-12-24T11:16:59.902389Z",
          "shell.execute_reply": "2020-12-24T11:16:59.902868Z"
        },
        "id": "mkOsxRIcHgKt",
        "outputId": "b4cf10d6-f4d8-4b82-c4e7-2a45a163d21d",
        "papermill": {
          "duration": 0.41203,
          "end_time": "2020-12-24T11:16:59.903017",
          "exception": false,
          "start_time": "2020-12-24T11:16:59.490987",
          "status": "completed"
        },
        "tags": [],
        "colab": {
          "base_uri": "https://localhost:8080/",
          "height": 734
        }
      },
      "outputs": [
        {
          "output_type": "display_data",
          "data": {
            "text/plain": [
              "<Figure size 1200x800 with 1 Axes>"
            ],
            "image/png": "[encoded data removed]"
          },
          "metadata": {
            "image/png": {
              "width": 1017,
              "height": 717
            }
          }
        }
      ],
      "source": [
        "# Plot training and validation accuracy\n",
        "plt.plot(tensor_list_cpu, label='train accuracy')\n",
        "plt.plot(tensor_list_cpu_val, label='validation accuracy')\n",
        "\n",
        "# Graph chars\n",
        "plt.title('Training history')\n",
        "plt.ylabel('Accuracy')\n",
        "plt.xlabel('Epoch')\n",
        "plt.legend()\n",
        "plt.ylim([0, 1]);"
      ]
    },
    {
      "cell_type": "markdown",
      "metadata": {
        "id": "XJ-hTsMQITml",
        "papermill": {
          "duration": 0.059469,
          "end_time": "2020-12-24T11:17:00.022231",
          "exception": false,
          "start_time": "2020-12-24T11:16:59.962762",
          "status": "completed"
        },
        "tags": []
      },
      "source": [
        "### Model Evaluation"
      ]
    },
    {
      "cell_type": "code",
      "execution_count": null,
      "metadata": {
        "execution": {
          "iopub.execute_input": "2020-12-24T11:17:00.171616Z",
          "iopub.status.busy": "2020-12-24T11:17:00.170790Z",
          "iopub.status.idle": "2020-12-24T11:17:08.785019Z",
          "shell.execute_reply": "2020-12-24T11:17:08.784048Z"
        },
        "id": "q53eNoW2IS7C",
        "outputId": "a85b507f-a890-45f8-a50b-aaae7ae63340",
        "papermill": {
          "duration": 8.703442,
          "end_time": "2020-12-24T11:17:08.785131",
          "exception": false,
          "start_time": "2020-12-24T11:17:00.081689",
          "status": "completed"
        },
        "tags": [],
        "colab": {
          "base_uri": "https://localhost:8080/"
        }
      },
      "outputs": [
        {
          "output_type": "execute_result",
          "data": {
            "text/plain": [
              "0.7925764192139738"
            ]
          },
          "metadata": {},
          "execution_count": 41
        }
      ],
      "source": [
        "test_acc, _ = eval_model(\n",
        "  model,\n",
        "  test_data_loader,\n",
        "  loss_fn,\n",
        "  device,\n",
        "  len(df_test)\n",
        ")\n",
        "\n",
        "test_acc.item()"
      ]
    },
    {
      "cell_type": "markdown",
      "metadata": {
        "id": "3kjQ5tI8IbIl",
        "papermill": {
          "duration": 0.059565,
          "end_time": "2020-12-24T11:17:08.904723",
          "exception": false,
          "start_time": "2020-12-24T11:17:08.845158",
          "status": "completed"
        },
        "tags": []
      },
      "source": [
        "Define a helper function to get predictions from our models. This is similar to the evaluation function, except that we’re storing the text of the reviews and the predicted probabilities"
      ]
    },
    {
      "cell_type": "code",
      "execution_count": null,
      "metadata": {
        "execution": {
          "iopub.execute_input": "2020-12-24T11:17:09.037013Z",
          "iopub.status.busy": "2020-12-24T11:17:09.035178Z",
          "iopub.status.idle": "2020-12-24T11:17:09.037685Z",
          "shell.execute_reply": "2020-12-24T11:17:09.038159Z"
        },
        "id": "C2gJhrUHIfsm",
        "papermill": {
          "duration": 0.073527,
          "end_time": "2020-12-24T11:17:09.038280",
          "exception": false,
          "start_time": "2020-12-24T11:17:08.964753",
          "status": "completed"
        },
        "tags": []
      },
      "outputs": [],
      "source": [
        "def get_predictions(model, data_loader):\n",
        "    model = model.eval()\n",
        "\n",
        "    review_texts = []\n",
        "    predictions = []\n",
        "    prediction_probs = []\n",
        "    real_values = []\n",
        "\n",
        "    with torch.no_grad():\n",
        "        for d in data_loader:\n",
        "            texts = d[\"review_text\"]\n",
        "            input_ids = d[\"input_ids\"].to(device)\n",
        "            attention_mask = d[\"attention_mask\"].to(device)\n",
        "            targets = d[\"targets\"].to(device)\n",
        "\n",
        "            # Get outouts\n",
        "            outputs = model(\n",
        "                input_ids=input_ids,\n",
        "                attention_mask=attention_mask\n",
        "            )\n",
        "            _, preds = torch.max(outputs, dim=1)\n",
        "\n",
        "            review_texts.extend(texts)\n",
        "            predictions.extend(preds)\n",
        "            prediction_probs.extend(outputs)\n",
        "            real_values.extend(targets)\n",
        "\n",
        "    predictions = torch.stack(predictions).cpu()\n",
        "    prediction_probs = torch.stack(prediction_probs).cpu()\n",
        "    real_values = torch.stack(real_values).cpu()\n",
        "\n",
        "    return review_texts, predictions, prediction_probs, real_values"
      ]
    },
    {
      "cell_type": "code",
      "execution_count": null,
      "metadata": {
        "execution": {
          "iopub.execute_input": "2020-12-24T11:17:09.165445Z",
          "iopub.status.busy": "2020-12-24T11:17:09.164573Z",
          "iopub.status.idle": "2020-12-24T11:17:16.368363Z",
          "shell.execute_reply": "2020-12-24T11:17:16.367785Z"
        },
        "id": "18mV-rdaIy-T",
        "papermill": {
          "duration": 7.269693,
          "end_time": "2020-12-24T11:17:16.368471",
          "exception": false,
          "start_time": "2020-12-24T11:17:09.098778",
          "status": "completed"
        },
        "tags": []
      },
      "outputs": [],
      "source": [
        "y_review_texts, y_pred, y_pred_probs, y_test = get_predictions(\n",
        "    model,\n",
        "    test_data_loader\n",
        ")"
      ]
    },
    {
      "cell_type": "code",
      "execution_count": null,
      "metadata": {
        "execution": {
          "iopub.execute_input": "2020-12-24T11:17:16.496096Z",
          "iopub.status.busy": "2020-12-24T11:17:16.495482Z",
          "iopub.status.idle": "2020-12-24T11:17:16.508020Z",
          "shell.execute_reply": "2020-12-24T11:17:16.508635Z"
        },
        "id": "1uvXvTrQVcK6",
        "outputId": "33539b60-46f3-4436-99d1-402410fde3c6",
        "papermill": {
          "duration": 0.078262,
          "end_time": "2020-12-24T11:17:16.508789",
          "exception": false,
          "start_time": "2020-12-24T11:17:16.430527",
          "status": "completed"
        },
        "tags": [],
        "colab": {
          "base_uri": "https://localhost:8080/"
        }
      },
      "outputs": [
        {
          "output_type": "stream",
          "name": "stdout",
          "text": [
            "              precision    recall  f1-score   support\n",
            "\n",
            "    negative       0.79      0.78      0.79       782\n",
            "     neutral       0.76      0.77      0.76      1099\n",
            "    positive       0.83      0.83      0.83       867\n",
            "\n",
            "    accuracy                           0.79      2748\n",
            "   macro avg       0.80      0.79      0.79      2748\n",
            "weighted avg       0.79      0.79      0.79      2748\n",
            "\n"
          ]
        }
      ],
      "source": [
        "print(classification_report(y_test, y_pred, target_names=class_names))"
      ]
    },
    {
      "cell_type": "code",
      "execution_count": null,
      "metadata": {
        "execution": {
          "iopub.execute_input": "2020-12-24T11:17:16.640928Z",
          "iopub.status.busy": "2020-12-24T11:17:16.640058Z",
          "iopub.status.idle": "2020-12-24T11:17:16.983718Z",
          "shell.execute_reply": "2020-12-24T11:17:16.983243Z"
        },
        "id": "YWVfnVW3VgL-",
        "outputId": "b049da7e-2192-436c-e817-cbd93cd6f644",
        "papermill": {
          "duration": 0.412556,
          "end_time": "2020-12-24T11:17:16.983828",
          "exception": false,
          "start_time": "2020-12-24T11:17:16.571272",
          "status": "completed"
        },
        "tags": [],
        "colab": {
          "base_uri": "https://localhost:8080/",
          "height": 747
        }
      },
      "outputs": [
        {
          "output_type": "display_data",
          "data": {
            "text/plain": [
              "<Figure size 1200x800 with 2 Axes>"
            ],
            "image/png": "[encoded data removed]"
          },
          "metadata": {
            "image/png": {
              "width": 1008,
              "height": 730
            }
          }
        }
      ],
      "source": [
        "def show_confusion_matrix(confusion_matrix):\n",
        "    hmap = sns.heatmap(confusion_matrix, annot=True, fmt=\"d\", cmap=\"Blues\")\n",
        "    hmap.yaxis.set_ticklabels(hmap.yaxis.get_ticklabels(), rotation=0, ha='right')\n",
        "    hmap.xaxis.set_ticklabels(hmap.xaxis.get_ticklabels(), rotation=30, ha='right')\n",
        "    plt.ylabel('True sentiment')\n",
        "    plt.xlabel('Predicted sentiment');\n",
        "\n",
        "cm = confusion_matrix(y_test, y_pred)\n",
        "df_cm = pd.DataFrame(cm, index=class_names, columns=class_names)\n",
        "show_confusion_matrix(df_cm)"
      ]
    },
    {
      "cell_type": "markdown",
      "metadata": {
        "id": "z6AQl1YoEzV8",
        "papermill": {
          "duration": 0.066433,
          "end_time": "2020-12-24T11:17:17.244113",
          "exception": false,
          "start_time": "2020-12-24T11:17:17.177680",
          "status": "completed"
        },
        "tags": []
      },
      "source": [
        "## Predicting on raw text"
      ]
    },
    {
      "cell_type": "code",
      "execution_count": null,
      "metadata": {
        "execution": {
          "iopub.execute_input": "2020-12-24T11:17:17.376488Z",
          "iopub.status.busy": "2020-12-24T11:17:17.375848Z",
          "iopub.status.idle": "2020-12-24T11:17:17.379917Z",
          "shell.execute_reply": "2020-12-24T11:17:17.379450Z"
        },
        "id": "S4CWFF0MEzV9",
        "papermill": {
          "duration": 0.07191,
          "end_time": "2020-12-24T11:17:17.380032",
          "exception": false,
          "start_time": "2020-12-24T11:17:17.308122",
          "status": "completed"
        },
        "tags": []
      },
      "outputs": [],
      "source": [
        "review_text = \"I`d have responded, if I were going\t\""
      ]
    },
    {
      "cell_type": "code",
      "execution_count": null,
      "metadata": {
        "execution": {
          "iopub.execute_input": "2020-12-24T11:17:17.513457Z",
          "iopub.status.busy": "2020-12-24T11:17:17.512703Z",
          "iopub.status.idle": "2020-12-24T11:17:17.515669Z",
          "shell.execute_reply": "2020-12-24T11:17:17.515167Z"
        },
        "id": "TOelFhlsSiK2",
        "papermill": {
          "duration": 0.072027,
          "end_time": "2020-12-24T11:17:17.515764",
          "exception": false,
          "start_time": "2020-12-24T11:17:17.443737",
          "status": "completed"
        },
        "tags": []
      },
      "outputs": [],
      "source": [
        "encoded_review = tokenizer.encode_plus(\n",
        "    review_text,\n",
        "    max_length=MAX_LEN,\n",
        "    add_special_tokens=True,\n",
        "    return_token_type_ids=False,\n",
        "    pad_to_max_length=True,\n",
        "    return_attention_mask=True,\n",
        "    return_tensors='pt',\n",
        ")"
      ]
    },
    {
      "cell_type": "code",
      "execution_count": null,
      "metadata": {
        "execution": {
          "iopub.execute_input": "2020-12-24T11:17:17.650116Z",
          "iopub.status.busy": "2020-12-24T11:17:17.649279Z",
          "iopub.status.idle": "2020-12-24T11:17:17.676102Z",
          "shell.execute_reply": "2020-12-24T11:17:17.676733Z"
        },
        "id": "3LZm3Ag0WGpi",
        "outputId": "adf7f68e-5ac7-43c7-88ad-ec3f586f0380",
        "papermill": {
          "duration": 0.096707,
          "end_time": "2020-12-24T11:17:17.676874",
          "exception": false,
          "start_time": "2020-12-24T11:17:17.580167",
          "status": "completed"
        },
        "tags": [],
        "colab": {
          "base_uri": "https://localhost:8080/"
        }
      },
      "outputs": [
        {
          "output_type": "stream",
          "name": "stdout",
          "text": [
            "Review text: I`d have responded, if I were going\t\n",
            "Sentiment  : neutral\n"
          ]
        }
      ],
      "source": [
        "input_ids = encoded_review['input_ids'].to(device)\n",
        "attention_mask = encoded_review['attention_mask'].to(device)\n",
        "\n",
        "output = model(input_ids, attention_mask)\n",
        "_, prediction = torch.max(output, dim=1)\n",
        "\n",
        "print(f'Review text: {review_text}')\n",
        "print(f'Sentiment  : {class_names[prediction]}')"
      ]
    }
  ],
  "metadata": {
    "kernelspec": {
      "display_name": "Python 3",
      "language": "python",
      "name": "python3"
    },
    "language_info": {
      "codemirror_mode": {
        "name": "ipython",
        "version": 3
      },
      "file_extension": ".py",
      "mimetype": "text/x-python",
      "name": "python",
      "nbconvert_exporter": "python",
      "pygments_lexer": "ipython3",
      "version": "3.7.6"
    },
    "papermill": {
      "duration": 2188.44731,
      "end_time": "2020-12-24T11:17:19.363434",
      "environment_variables": {},
      "exception": null,
      "input_path": "__notebook__.ipynb",
      "output_path": "__notebook__.ipynb",
      "parameters": {},
      "start_time": "2020-12-24T10:40:50.916124",
      "version": "2.1.0"
    },
    "widgets": {
      "application/vnd.jupyter.widget-state+json": {
        "7990b4fc84f14a4bb3ca736d3d412c6a": {
          "model_module": "@jupyter-widgets/controls",
          "model_name": "HBoxModel",
          "model_module_version": "1.5.0",
          "state": {
            "_dom_classes": [],
            "_model_module": "@jupyter-widgets/controls",
            "_model_module_version": "1.5.0",
            "_model_name": "HBoxModel",
            "_view_count": null,
            "_view_module": "@jupyter-widgets/controls",
            "_view_module_version": "1.5.0",
            "_view_name": "HBoxView",
            "box_style": "",
            "children": [
              "IPY_MODEL_e214a223ab424f788387070fd64b200a",
              "IPY_MODEL_cd0e57905db64c9a8445d55dcfbee8d0",
              "IPY_MODEL_d54fbe9201a24230800974a4fe517c3e"
            ],
            "layout": "IPY_MODEL_43b62362b7f84ba88a78d36acbfe628f"
          }
        },
        "e214a223ab424f788387070fd64b200a": {
          "model_module": "@jupyter-widgets/controls",
          "model_name": "HTMLModel",
          "model_module_version": "1.5.0",
          "state": {
            "_dom_classes": [],
            "_model_module": "@jupyter-widgets/controls",
            "_model_module_version": "1.5.0",
            "_model_name": "HTMLModel",
            "_view_count": null,
            "_view_module": "@jupyter-widgets/controls",
            "_view_module_version": "1.5.0",
            "_view_name": "HTMLView",
            "description": "",
            "description_tooltip": null,
            "layout": "IPY_MODEL_608e99636c6f4b2ebd8e7db1b77aca45",
            "placeholder": "​",
            "style": "IPY_MODEL_0dc05b276c264409a2aad16d7635e310",
            "value": "Downloading (…)solve/main/vocab.txt: "
          }
        },
        "cd0e57905db64c9a8445d55dcfbee8d0": {
          "model_module": "@jupyter-widgets/controls",
          "model_name": "FloatProgressModel",
          "model_module_version": "1.5.0",
          "state": {
            "_dom_classes": [],
            "_model_module": "@jupyter-widgets/controls",
            "_model_module_version": "1.5.0",
            "_model_name": "FloatProgressModel",
            "_view_count": null,
            "_view_module": "@jupyter-widgets/controls",
            "_view_module_version": "1.5.0",
            "_view_name": "ProgressView",
            "bar_style": "success",
            "description": "",
            "description_tooltip": null,
            "layout": "IPY_MODEL_0d81efd696e442a784ea7777e02049fa",
            "max": 1,
            "min": 0,
            "orientation": "horizontal",
            "style": "IPY_MODEL_3617df64bfea47c3b75c826158c98e95",
            "value": 1
          }
        },
        "d54fbe9201a24230800974a4fe517c3e": {
          "model_module": "@jupyter-widgets/controls",
          "model_name": "HTMLModel",
          "model_module_version": "1.5.0",
          "state": {
            "_dom_classes": [],
            "_model_module": "@jupyter-widgets/controls",
            "_model_module_version": "1.5.0",
            "_model_name": "HTMLModel",
            "_view_count": null,
            "_view_module": "@jupyter-widgets/controls",
            "_view_module_version": "1.5.0",
            "_view_name": "HTMLView",
            "description": "",
            "description_tooltip": null,
            "layout": "IPY_MODEL_adf4fc46687e4c2197045857e10671da",
            "placeholder": "​",
            "style": "IPY_MODEL_4cc41dcb7c604591ab8035dcfcc395d2",
            "value": " 213k/? [00:00&lt;00:00, 5.08MB/s]"
          }
        },
        "43b62362b7f84ba88a78d36acbfe628f": {
          "model_module": "@jupyter-widgets/base",
          "model_name": "LayoutModel",
          "model_module_version": "1.2.0",
          "state": {
            "_model_module": "@jupyter-widgets/base",
            "_model_module_version": "1.2.0",
            "_model_name": "LayoutModel",
            "_view_count": null,
            "_view_module": "@jupyter-widgets/base",
            "_view_module_version": "1.2.0",
            "_view_name": "LayoutView",
            "align_content": null,
            "align_items": null,
            "align_self": null,
            "border": null,
            "bottom": null,
            "display": null,
            "flex": null,
            "flex_flow": null,
            "grid_area": null,
            "grid_auto_columns": null,
            "grid_auto_flow": null,
            "grid_auto_rows": null,
            "grid_column": null,
            "grid_gap": null,
            "grid_row": null,
            "grid_template_areas": null,
            "grid_template_columns": null,
            "grid_template_rows": null,
            "height": null,
            "justify_content": null,
            "justify_items": null,
            "left": null,
            "margin": null,
            "max_height": null,
            "max_width": null,
            "min_height": null,
            "min_width": null,
            "object_fit": null,
            "object_position": null,
            "order": null,
            "overflow": null,
            "overflow_x": null,
            "overflow_y": null,
            "padding": null,
            "right": null,
            "top": null,
            "visibility": null,
            "width": null
          }
        },
        "608e99636c6f4b2ebd8e7db1b77aca45": {
          "model_module": "@jupyter-widgets/base",
          "model_name": "LayoutModel",
          "model_module_version": "1.2.0",
          "state": {
            "_model_module": "@jupyter-widgets/base",
            "_model_module_version": "1.2.0",
            "_model_name": "LayoutModel",
            "_view_count": null,
            "_view_module": "@jupyter-widgets/base",
            "_view_module_version": "1.2.0",
            "_view_name": "LayoutView",
            "align_content": null,
            "align_items": null,
            "align_self": null,
            "border": null,
            "bottom": null,
            "display": null,
            "flex": null,
            "flex_flow": null,
            "grid_area": null,
            "grid_auto_columns": null,
            "grid_auto_flow": null,
            "grid_auto_rows": null,
            "grid_column": null,
            "grid_gap": null,
            "grid_row": null,
            "grid_template_areas": null,
            "grid_template_columns": null,
            "grid_template_rows": null,
            "height": null,
            "justify_content": null,
            "justify_items": null,
            "left": null,
            "margin": null,
            "max_height": null,
            "max_width": null,
            "min_height": null,
            "min_width": null,
            "object_fit": null,
            "object_position": null,
            "order": null,
            "overflow": null,
            "overflow_x": null,
            "overflow_y": null,
            "padding": null,
            "right": null,
            "top": null,
            "visibility": null,
            "width": null
          }
        },
        "0dc05b276c264409a2aad16d7635e310": {
          "model_module": "@jupyter-widgets/controls",
          "model_name": "DescriptionStyleModel",
          "model_module_version": "1.5.0",
          "state": {
            "_model_module": "@jupyter-widgets/controls",
            "_model_module_version": "1.5.0",
            "_model_name": "DescriptionStyleModel",
            "_view_count": null,
            "_view_module": "@jupyter-widgets/base",
            "_view_module_version": "1.2.0",
            "_view_name": "StyleView",
            "description_width": ""
          }
        },
        "0d81efd696e442a784ea7777e02049fa": {
          "model_module": "@jupyter-widgets/base",
          "model_name": "LayoutModel",
          "model_module_version": "1.2.0",
          "state": {
            "_model_module": "@jupyter-widgets/base",
            "_model_module_version": "1.2.0",
            "_model_name": "LayoutModel",
            "_view_count": null,
            "_view_module": "@jupyter-widgets/base",
            "_view_module_version": "1.2.0",
            "_view_name": "LayoutView",
            "align_content": null,
            "align_items": null,
            "align_self": null,
            "border": null,
            "bottom": null,
            "display": null,
            "flex": null,
            "flex_flow": null,
            "grid_area": null,
            "grid_auto_columns": null,
            "grid_auto_flow": null,
            "grid_auto_rows": null,
            "grid_column": null,
            "grid_gap": null,
            "grid_row": null,
            "grid_template_areas": null,
            "grid_template_columns": null,
            "grid_template_rows": null,
            "height": null,
            "justify_content": null,
            "justify_items": null,
            "left": null,
            "margin": null,
            "max_height": null,
            "max_width": null,
            "min_height": null,
            "min_width": null,
            "object_fit": null,
            "object_position": null,
            "order": null,
            "overflow": null,
            "overflow_x": null,
            "overflow_y": null,
            "padding": null,
            "right": null,
            "top": null,
            "visibility": null,
            "width": "20px"
          }
        },
        "3617df64bfea47c3b75c826158c98e95": {
          "model_module": "@jupyter-widgets/controls",
          "model_name": "ProgressStyleModel",
          "model_module_version": "1.5.0",
          "state": {
            "_model_module": "@jupyter-widgets/controls",
            "_model_module_version": "1.5.0",
            "_model_name": "ProgressStyleModel",
            "_view_count": null,
            "_view_module": "@jupyter-widgets/base",
            "_view_module_version": "1.2.0",
            "_view_name": "StyleView",
            "bar_color": null,
            "description_width": ""
          }
        },
        "adf4fc46687e4c2197045857e10671da": {
          "model_module": "@jupyter-widgets/base",
          "model_name": "LayoutModel",
          "model_module_version": "1.2.0",
          "state": {
            "_model_module": "@jupyter-widgets/base",
            "_model_module_version": "1.2.0",
            "_model_name": "LayoutModel",
            "_view_count": null,
            "_view_module": "@jupyter-widgets/base",
            "_view_module_version": "1.2.0",
            "_view_name": "LayoutView",
            "align_content": null,
            "align_items": null,
            "align_self": null,
            "border": null,
            "bottom": null,
            "display": null,
            "flex": null,
            "flex_flow": null,
            "grid_area": null,
            "grid_auto_columns": null,
            "grid_auto_flow": null,
            "grid_auto_rows": null,
            "grid_column": null,
            "grid_gap": null,
            "grid_row": null,
            "grid_template_areas": null,
            "grid_template_columns": null,
            "grid_template_rows": null,
            "height": null,
            "justify_content": null,
            "justify_items": null,
            "left": null,
            "margin": null,
            "max_height": null,
            "max_width": null,
            "min_height": null,
            "min_width": null,
            "object_fit": null,
            "object_position": null,
            "order": null,
            "overflow": null,
            "overflow_x": null,
            "overflow_y": null,
            "padding": null,
            "right": null,
            "top": null,
            "visibility": null,
            "width": null
          }
        },
        "4cc41dcb7c604591ab8035dcfcc395d2": {
          "model_module": "@jupyter-widgets/controls",
          "model_name": "DescriptionStyleModel",
          "model_module_version": "1.5.0",
          "state": {
            "_model_module": "@jupyter-widgets/controls",
            "_model_module_version": "1.5.0",
            "_model_name": "DescriptionStyleModel",
            "_view_count": null,
            "_view_module": "@jupyter-widgets/base",
            "_view_module_version": "1.2.0",
            "_view_name": "StyleView",
            "description_width": ""
          }
        },
        "009c1d51ab2d46afae9507dad8732bd5": {
          "model_module": "@jupyter-widgets/controls",
          "model_name": "HBoxModel",
          "model_module_version": "1.5.0",
          "state": {
            "_dom_classes": [],
            "_model_module": "@jupyter-widgets/controls",
            "_model_module_version": "1.5.0",
            "_model_name": "HBoxModel",
            "_view_count": null,
            "_view_module": "@jupyter-widgets/controls",
            "_view_module_version": "1.5.0",
            "_view_name": "HBoxView",
            "box_style": "",
            "children": [
              "IPY_MODEL_8a0bf9f7e02b4d4992cccf37b8e35f1f",
              "IPY_MODEL_a7adb3a8f39444d3a3ab82291463778e",
              "IPY_MODEL_4264fc0fd43d45c591bf71a87cd14ec4"
            ],
            "layout": "IPY_MODEL_d261ba7b42b44acd874e2fa5572a043a"
          }
        },
        "8a0bf9f7e02b4d4992cccf37b8e35f1f": {
          "model_module": "@jupyter-widgets/controls",
          "model_name": "HTMLModel",
          "model_module_version": "1.5.0",
          "state": {
            "_dom_classes": [],
            "_model_module": "@jupyter-widgets/controls",
            "_model_module_version": "1.5.0",
            "_model_name": "HTMLModel",
            "_view_count": null,
            "_view_module": "@jupyter-widgets/controls",
            "_view_module_version": "1.5.0",
            "_view_name": "HTMLView",
            "description": "",
            "description_tooltip": null,
            "layout": "IPY_MODEL_655789f5fad9446fae09d85003447ef9",
            "placeholder": "​",
            "style": "IPY_MODEL_f3de25b45c93426f913a656a7697b13d",
            "value": "Downloading (…)okenizer_config.json: 100%"
          }
        },
        "a7adb3a8f39444d3a3ab82291463778e": {
          "model_module": "@jupyter-widgets/controls",
          "model_name": "FloatProgressModel",
          "model_module_version": "1.5.0",
          "state": {
            "_dom_classes": [],
            "_model_module": "@jupyter-widgets/controls",
            "_model_module_version": "1.5.0",
            "_model_name": "FloatProgressModel",
            "_view_count": null,
            "_view_module": "@jupyter-widgets/controls",
            "_view_module_version": "1.5.0",
            "_view_name": "ProgressView",
            "bar_style": "success",
            "description": "",
            "description_tooltip": null,
            "layout": "IPY_MODEL_aede4ab4fb9c423ba05fc49336a48d06",
            "max": 29,
            "min": 0,
            "orientation": "horizontal",
            "style": "IPY_MODEL_4dd2a63b86924733a566114ca027cd07",
            "value": 29
          }
        },
        "4264fc0fd43d45c591bf71a87cd14ec4": {
          "model_module": "@jupyter-widgets/controls",
          "model_name": "HTMLModel",
          "model_module_version": "1.5.0",
          "state": {
            "_dom_classes": [],
            "_model_module": "@jupyter-widgets/controls",
            "_model_module_version": "1.5.0",
            "_model_name": "HTMLModel",
            "_view_count": null,
            "_view_module": "@jupyter-widgets/controls",
            "_view_module_version": "1.5.0",
            "_view_name": "HTMLView",
            "description": "",
            "description_tooltip": null,
            "layout": "IPY_MODEL_e7716ce8d1cc4767892a715145386a1b",
            "placeholder": "​",
            "style": "IPY_MODEL_873a43e59b6f4408a7f7a4ddd3d0bbd4",
            "value": " 29.0/29.0 [00:00&lt;00:00, 865B/s]"
          }
        },
        "d261ba7b42b44acd874e2fa5572a043a": {
          "model_module": "@jupyter-widgets/base",
          "model_name": "LayoutModel",
          "model_module_version": "1.2.0",
          "state": {
            "_model_module": "@jupyter-widgets/base",
            "_model_module_version": "1.2.0",
            "_model_name": "LayoutModel",
            "_view_count": null,
            "_view_module": "@jupyter-widgets/base",
            "_view_module_version": "1.2.0",
            "_view_name": "LayoutView",
            "align_content": null,
            "align_items": null,
            "align_self": null,
            "border": null,
            "bottom": null,
            "display": null,
            "flex": null,
            "flex_flow": null,
            "grid_area": null,
            "grid_auto_columns": null,
            "grid_auto_flow": null,
            "grid_auto_rows": null,
            "grid_column": null,
            "grid_gap": null,
            "grid_row": null,
            "grid_template_areas": null,
            "grid_template_columns": null,
            "grid_template_rows": null,
            "height": null,
            "justify_content": null,
            "justify_items": null,
            "left": null,
            "margin": null,
            "max_height": null,
            "max_width": null,
            "min_height": null,
            "min_width": null,
            "object_fit": null,
            "object_position": null,
            "order": null,
            "overflow": null,
            "overflow_x": null,
            "overflow_y": null,
            "padding": null,
            "right": null,
            "top": null,
            "visibility": null,
            "width": null
          }
        },
        "655789f5fad9446fae09d85003447ef9": {
          "model_module": "@jupyter-widgets/base",
          "model_name": "LayoutModel",
          "model_module_version": "1.2.0",
          "state": {
            "_model_module": "@jupyter-widgets/base",
            "_model_module_version": "1.2.0",
            "_model_name": "LayoutModel",
            "_view_count": null,
            "_view_module": "@jupyter-widgets/base",
            "_view_module_version": "1.2.0",
            "_view_name": "LayoutView",
            "align_content": null,
            "align_items": null,
            "align_self": null,
            "border": null,
            "bottom": null,
            "display": null,
            "flex": null,
            "flex_flow": null,
            "grid_area": null,
            "grid_auto_columns": null,
            "grid_auto_flow": null,
            "grid_auto_rows": null,
            "grid_column": null,
            "grid_gap": null,
            "grid_row": null,
            "grid_template_areas": null,
            "grid_template_columns": null,
            "grid_template_rows": null,
            "height": null,
            "justify_content": null,
            "justify_items": null,
            "left": null,
            "margin": null,
            "max_height": null,
            "max_width": null,
            "min_height": null,
            "min_width": null,
            "object_fit": null,
            "object_position": null,
            "order": null,
            "overflow": null,
            "overflow_x": null,
            "overflow_y": null,
            "padding": null,
            "right": null,
            "top": null,
            "visibility": null,
            "width": null
          }
        },
        "f3de25b45c93426f913a656a7697b13d": {
          "model_module": "@jupyter-widgets/controls",
          "model_name": "DescriptionStyleModel",
          "model_module_version": "1.5.0",
          "state": {
            "_model_module": "@jupyter-widgets/controls",
            "_model_module_version": "1.5.0",
            "_model_name": "DescriptionStyleModel",
            "_view_count": null,
            "_view_module": "@jupyter-widgets/base",
            "_view_module_version": "1.2.0",
            "_view_name": "StyleView",
            "description_width": ""
          }
        },
        "aede4ab4fb9c423ba05fc49336a48d06": {
          "model_module": "@jupyter-widgets/base",
          "model_name": "LayoutModel",
          "model_module_version": "1.2.0",
          "state": {
            "_model_module": "@jupyter-widgets/base",
            "_model_module_version": "1.2.0",
            "_model_name": "LayoutModel",
            "_view_count": null,
            "_view_module": "@jupyter-widgets/base",
            "_view_module_version": "1.2.0",
            "_view_name": "LayoutView",
            "align_content": null,
            "align_items": null,
            "align_self": null,
            "border": null,
            "bottom": null,
            "display": null,
            "flex": null,
            "flex_flow": null,
            "grid_area": null,
            "grid_auto_columns": null,
            "grid_auto_flow": null,
            "grid_auto_rows": null,
            "grid_column": null,
            "grid_gap": null,
            "grid_row": null,
            "grid_template_areas": null,
            "grid_template_columns": null,
            "grid_template_rows": null,
            "height": null,
            "justify_content": null,
            "justify_items": null,
            "left": null,
            "margin": null,
            "max_height": null,
            "max_width": null,
            "min_height": null,
            "min_width": null,
            "object_fit": null,
            "object_position": null,
            "order": null,
            "overflow": null,
            "overflow_x": null,
            "overflow_y": null,
            "padding": null,
            "right": null,
            "top": null,
            "visibility": null,
            "width": null
          }
        },
        "4dd2a63b86924733a566114ca027cd07": {
          "model_module": "@jupyter-widgets/controls",
          "model_name": "ProgressStyleModel",
          "model_module_version": "1.5.0",
          "state": {
            "_model_module": "@jupyter-widgets/controls",
            "_model_module_version": "1.5.0",
            "_model_name": "ProgressStyleModel",
            "_view_count": null,
            "_view_module": "@jupyter-widgets/base",
            "_view_module_version": "1.2.0",
            "_view_name": "StyleView",
            "bar_color": null,
            "description_width": ""
          }
        },
        "e7716ce8d1cc4767892a715145386a1b": {
          "model_module": "@jupyter-widgets/base",
          "model_name": "LayoutModel",
          "model_module_version": "1.2.0",
          "state": {
            "_model_module": "@jupyter-widgets/base",
            "_model_module_version": "1.2.0",
            "_model_name": "LayoutModel",
            "_view_count": null,
            "_view_module": "@jupyter-widgets/base",
            "_view_module_version": "1.2.0",
            "_view_name": "LayoutView",
            "align_content": null,
            "align_items": null,
            "align_self": null,
            "border": null,
            "bottom": null,
            "display": null,
            "flex": null,
            "flex_flow": null,
            "grid_area": null,
            "grid_auto_columns": null,
            "grid_auto_flow": null,
            "grid_auto_rows": null,
            "grid_column": null,
            "grid_gap": null,
            "grid_row": null,
            "grid_template_areas": null,
            "grid_template_columns": null,
            "grid_template_rows": null,
            "height": null,
            "justify_content": null,
            "justify_items": null,
            "left": null,
            "margin": null,
            "max_height": null,
            "max_width": null,
            "min_height": null,
            "min_width": null,
            "object_fit": null,
            "object_position": null,
            "order": null,
            "overflow": null,
            "overflow_x": null,
            "overflow_y": null,
            "padding": null,
            "right": null,
            "top": null,
            "visibility": null,
            "width": null
          }
        },
        "873a43e59b6f4408a7f7a4ddd3d0bbd4": {
          "model_module": "@jupyter-widgets/controls",
          "model_name": "DescriptionStyleModel",
          "model_module_version": "1.5.0",
          "state": {
            "_model_module": "@jupyter-widgets/controls",
            "_model_module_version": "1.5.0",
            "_model_name": "DescriptionStyleModel",
            "_view_count": null,
            "_view_module": "@jupyter-widgets/base",
            "_view_module_version": "1.2.0",
            "_view_name": "StyleView",
            "description_width": ""
          }
        },
        "3f0bba8bcc2c4a2a9cb8efceb11c896a": {
          "model_module": "@jupyter-widgets/controls",
          "model_name": "HBoxModel",
          "model_module_version": "1.5.0",
          "state": {
            "_dom_classes": [],
            "_model_module": "@jupyter-widgets/controls",
            "_model_module_version": "1.5.0",
            "_model_name": "HBoxModel",
            "_view_count": null,
            "_view_module": "@jupyter-widgets/controls",
            "_view_module_version": "1.5.0",
            "_view_name": "HBoxView",
            "box_style": "",
            "children": [
              "IPY_MODEL_4dbb9d453df84e48a0d67635db311c73",
              "IPY_MODEL_3621c0f3bfeb45b994e4aa3f099e7edf",
              "IPY_MODEL_a51157073a5d42a1b6ddeb18f400a2d6"
            ],
            "layout": "IPY_MODEL_64131525781a41c093e75156368f891f"
          }
        },
        "4dbb9d453df84e48a0d67635db311c73": {
          "model_module": "@jupyter-widgets/controls",
          "model_name": "HTMLModel",
          "model_module_version": "1.5.0",
          "state": {
            "_dom_classes": [],
            "_model_module": "@jupyter-widgets/controls",
            "_model_module_version": "1.5.0",
            "_model_name": "HTMLModel",
            "_view_count": null,
            "_view_module": "@jupyter-widgets/controls",
            "_view_module_version": "1.5.0",
            "_view_name": "HTMLView",
            "description": "",
            "description_tooltip": null,
            "layout": "IPY_MODEL_6caac9e8812c4052a1899eb64b6aa7d1",
            "placeholder": "​",
            "style": "IPY_MODEL_f440c4ab159646d4b46ede4ca98a1038",
            "value": "Downloading (…)lve/main/config.json: 100%"
          }
        },
        "3621c0f3bfeb45b994e4aa3f099e7edf": {
          "model_module": "@jupyter-widgets/controls",
          "model_name": "FloatProgressModel",
          "model_module_version": "1.5.0",
          "state": {
            "_dom_classes": [],
            "_model_module": "@jupyter-widgets/controls",
            "_model_module_version": "1.5.0",
            "_model_name": "FloatProgressModel",
            "_view_count": null,
            "_view_module": "@jupyter-widgets/controls",
            "_view_module_version": "1.5.0",
            "_view_name": "ProgressView",
            "bar_style": "success",
            "description": "",
            "description_tooltip": null,
            "layout": "IPY_MODEL_b208a3745550467db43b7eb00341a636",
            "max": 570,
            "min": 0,
            "orientation": "horizontal",
            "style": "IPY_MODEL_f5b71609eeec4cbeafd86a60963d823f",
            "value": 570
          }
        },
        "a51157073a5d42a1b6ddeb18f400a2d6": {
          "model_module": "@jupyter-widgets/controls",
          "model_name": "HTMLModel",
          "model_module_version": "1.5.0",
          "state": {
            "_dom_classes": [],
            "_model_module": "@jupyter-widgets/controls",
            "_model_module_version": "1.5.0",
            "_model_name": "HTMLModel",
            "_view_count": null,
            "_view_module": "@jupyter-widgets/controls",
            "_view_module_version": "1.5.0",
            "_view_name": "HTMLView",
            "description": "",
            "description_tooltip": null,
            "layout": "IPY_MODEL_399a21113d3c40fbb7dd604b16633361",
            "placeholder": "​",
            "style": "IPY_MODEL_365c8d6b844b4e329e1ba5e3d21c8dca",
            "value": " 570/570 [00:00&lt;00:00, 24.3kB/s]"
          }
        },
        "64131525781a41c093e75156368f891f": {
          "model_module": "@jupyter-widgets/base",
          "model_name": "LayoutModel",
          "model_module_version": "1.2.0",
          "state": {
            "_model_module": "@jupyter-widgets/base",
            "_model_module_version": "1.2.0",
            "_model_name": "LayoutModel",
            "_view_count": null,
            "_view_module": "@jupyter-widgets/base",
            "_view_module_version": "1.2.0",
            "_view_name": "LayoutView",
            "align_content": null,
            "align_items": null,
            "align_self": null,
            "border": null,
            "bottom": null,
            "display": null,
            "flex": null,
            "flex_flow": null,
            "grid_area": null,
            "grid_auto_columns": null,
            "grid_auto_flow": null,
            "grid_auto_rows": null,
            "grid_column": null,
            "grid_gap": null,
            "grid_row": null,
            "grid_template_areas": null,
            "grid_template_columns": null,
            "grid_template_rows": null,
            "height": null,
            "justify_content": null,
            "justify_items": null,
            "left": null,
            "margin": null,
            "max_height": null,
            "max_width": null,
            "min_height": null,
            "min_width": null,
            "object_fit": null,
            "object_position": null,
            "order": null,
            "overflow": null,
            "overflow_x": null,
            "overflow_y": null,
            "padding": null,
            "right": null,
            "top": null,
            "visibility": null,
            "width": null
          }
        },
        "6caac9e8812c4052a1899eb64b6aa7d1": {
          "model_module": "@jupyter-widgets/base",
          "model_name": "LayoutModel",
          "model_module_version": "1.2.0",
          "state": {
            "_model_module": "@jupyter-widgets/base",
            "_model_module_version": "1.2.0",
            "_model_name": "LayoutModel",
            "_view_count": null,
            "_view_module": "@jupyter-widgets/base",
            "_view_module_version": "1.2.0",
            "_view_name": "LayoutView",
            "align_content": null,
            "align_items": null,
            "align_self": null,
            "border": null,
            "bottom": null,
            "display": null,
            "flex": null,
            "flex_flow": null,
            "grid_area": null,
            "grid_auto_columns": null,
            "grid_auto_flow": null,
            "grid_auto_rows": null,
            "grid_column": null,
            "grid_gap": null,
            "grid_row": null,
            "grid_template_areas": null,
            "grid_template_columns": null,
            "grid_template_rows": null,
            "height": null,
            "justify_content": null,
            "justify_items": null,
            "left": null,
            "margin": null,
            "max_height": null,
            "max_width": null,
            "min_height": null,
            "min_width": null,
            "object_fit": null,
            "object_position": null,
            "order": null,
            "overflow": null,
            "overflow_x": null,
            "overflow_y": null,
            "padding": null,
            "right": null,
            "top": null,
            "visibility": null,
            "width": null
          }
        },
        "f440c4ab159646d4b46ede4ca98a1038": {
          "model_module": "@jupyter-widgets/controls",
          "model_name": "DescriptionStyleModel",
          "model_module_version": "1.5.0",
          "state": {
            "_model_module": "@jupyter-widgets/controls",
            "_model_module_version": "1.5.0",
            "_model_name": "DescriptionStyleModel",
            "_view_count": null,
            "_view_module": "@jupyter-widgets/base",
            "_view_module_version": "1.2.0",
            "_view_name": "StyleView",
            "description_width": ""
          }
        },
        "b208a3745550467db43b7eb00341a636": {
          "model_module": "@jupyter-widgets/base",
          "model_name": "LayoutModel",
          "model_module_version": "1.2.0",
          "state": {
            "_model_module": "@jupyter-widgets/base",
            "_model_module_version": "1.2.0",
            "_model_name": "LayoutModel",
            "_view_count": null,
            "_view_module": "@jupyter-widgets/base",
            "_view_module_version": "1.2.0",
            "_view_name": "LayoutView",
            "align_content": null,
            "align_items": null,
            "align_self": null,
            "border": null,
            "bottom": null,
            "display": null,
            "flex": null,
            "flex_flow": null,
            "grid_area": null,
            "grid_auto_columns": null,
            "grid_auto_flow": null,
            "grid_auto_rows": null,
            "grid_column": null,
            "grid_gap": null,
            "grid_row": null,
            "grid_template_areas": null,
            "grid_template_columns": null,
            "grid_template_rows": null,
            "height": null,
            "justify_content": null,
            "justify_items": null,
            "left": null,
            "margin": null,
            "max_height": null,
            "max_width": null,
            "min_height": null,
            "min_width": null,
            "object_fit": null,
            "object_position": null,
            "order": null,
            "overflow": null,
            "overflow_x": null,
            "overflow_y": null,
            "padding": null,
            "right": null,
            "top": null,
            "visibility": null,
            "width": null
          }
        },
        "f5b71609eeec4cbeafd86a60963d823f": {
          "model_module": "@jupyter-widgets/controls",
          "model_name": "ProgressStyleModel",
          "model_module_version": "1.5.0",
          "state": {
            "_model_module": "@jupyter-widgets/controls",
            "_model_module_version": "1.5.0",
            "_model_name": "ProgressStyleModel",
            "_view_count": null,
            "_view_module": "@jupyter-widgets/base",
            "_view_module_version": "1.2.0",
            "_view_name": "StyleView",
            "bar_color": null,
            "description_width": ""
          }
        },
        "399a21113d3c40fbb7dd604b16633361": {
          "model_module": "@jupyter-widgets/base",
          "model_name": "LayoutModel",
          "model_module_version": "1.2.0",
          "state": {
            "_model_module": "@jupyter-widgets/base",
            "_model_module_version": "1.2.0",
            "_model_name": "LayoutModel",
            "_view_count": null,
            "_view_module": "@jupyter-widgets/base",
            "_view_module_version": "1.2.0",
            "_view_name": "LayoutView",
            "align_content": null,
            "align_items": null,
            "align_self": null,
            "border": null,
            "bottom": null,
            "display": null,
            "flex": null,
            "flex_flow": null,
            "grid_area": null,
            "grid_auto_columns": null,
            "grid_auto_flow": null,
            "grid_auto_rows": null,
            "grid_column": null,
            "grid_gap": null,
            "grid_row": null,
            "grid_template_areas": null,
            "grid_template_columns": null,
            "grid_template_rows": null,
            "height": null,
            "justify_content": null,
            "justify_items": null,
            "left": null,
            "margin": null,
            "max_height": null,
            "max_width": null,
            "min_height": null,
            "min_width": null,
            "object_fit": null,
            "object_position": null,
            "order": null,
            "overflow": null,
            "overflow_x": null,
            "overflow_y": null,
            "padding": null,
            "right": null,
            "top": null,
            "visibility": null,
            "width": null
          }
        },
        "365c8d6b844b4e329e1ba5e3d21c8dca": {
          "model_module": "@jupyter-widgets/controls",
          "model_name": "DescriptionStyleModel",
          "model_module_version": "1.5.0",
          "state": {
            "_model_module": "@jupyter-widgets/controls",
            "_model_module_version": "1.5.0",
            "_model_name": "DescriptionStyleModel",
            "_view_count": null,
            "_view_module": "@jupyter-widgets/base",
            "_view_module_version": "1.2.0",
            "_view_name": "StyleView",
            "description_width": ""
          }
        },
        "729cb517c5e34404a6a27e93d0541f09": {
          "model_module": "@jupyter-widgets/controls",
          "model_name": "HBoxModel",
          "model_module_version": "1.5.0",
          "state": {
            "_dom_classes": [],
            "_model_module": "@jupyter-widgets/controls",
            "_model_module_version": "1.5.0",
            "_model_name": "HBoxModel",
            "_view_count": null,
            "_view_module": "@jupyter-widgets/controls",
            "_view_module_version": "1.5.0",
            "_view_name": "HBoxView",
            "box_style": "",
            "children": [
              "IPY_MODEL_d3fd4eef1b374e898a37427189129d85",
              "IPY_MODEL_6baa019a7c1e40fea2900e193ad068cf",
              "IPY_MODEL_2d88bc5ae5834b55b30167a7ecbd55e3"
            ],
            "layout": "IPY_MODEL_318ab90db4274d1c9bf6df7b43c9936f"
          }
        },
        "d3fd4eef1b374e898a37427189129d85": {
          "model_module": "@jupyter-widgets/controls",
          "model_name": "HTMLModel",
          "model_module_version": "1.5.0",
          "state": {
            "_dom_classes": [],
            "_model_module": "@jupyter-widgets/controls",
            "_model_module_version": "1.5.0",
            "_model_name": "HTMLModel",
            "_view_count": null,
            "_view_module": "@jupyter-widgets/controls",
            "_view_module_version": "1.5.0",
            "_view_name": "HTMLView",
            "description": "",
            "description_tooltip": null,
            "layout": "IPY_MODEL_d264ddf715574a9bb44086ef951e091d",
            "placeholder": "​",
            "style": "IPY_MODEL_bf7341bad2604df2874942e5a694c89f",
            "value": "Downloading pytorch_model.bin: 100%"
          }
        },
        "6baa019a7c1e40fea2900e193ad068cf": {
          "model_module": "@jupyter-widgets/controls",
          "model_name": "FloatProgressModel",
          "model_module_version": "1.5.0",
          "state": {
            "_dom_classes": [],
            "_model_module": "@jupyter-widgets/controls",
            "_model_module_version": "1.5.0",
            "_model_name": "FloatProgressModel",
            "_view_count": null,
            "_view_module": "@jupyter-widgets/controls",
            "_view_module_version": "1.5.0",
            "_view_name": "ProgressView",
            "bar_style": "success",
            "description": "",
            "description_tooltip": null,
            "layout": "IPY_MODEL_1a6649141d354c6fb70bda4417c0cf16",
            "max": 435779157,
            "min": 0,
            "orientation": "horizontal",
            "style": "IPY_MODEL_6f2483bc1a9943acb639ce933857b6dd",
            "value": 435779157
          }
        },
        "2d88bc5ae5834b55b30167a7ecbd55e3": {
          "model_module": "@jupyter-widgets/controls",
          "model_name": "HTMLModel",
          "model_module_version": "1.5.0",
          "state": {
            "_dom_classes": [],
            "_model_module": "@jupyter-widgets/controls",
            "_model_module_version": "1.5.0",
            "_model_name": "HTMLModel",
            "_view_count": null,
            "_view_module": "@jupyter-widgets/controls",
            "_view_module_version": "1.5.0",
            "_view_name": "HTMLView",
            "description": "",
            "description_tooltip": null,
            "layout": "IPY_MODEL_e11d4e7e3ec149b7a92584419054a44a",
            "placeholder": "​",
            "style": "IPY_MODEL_9f4a5135dd1e4173ae02e0ae5e2ac82b",
            "value": " 436M/436M [00:06&lt;00:00, 75.9MB/s]"
          }
        },
        "318ab90db4274d1c9bf6df7b43c9936f": {
          "model_module": "@jupyter-widgets/base",
          "model_name": "LayoutModel",
          "model_module_version": "1.2.0",
          "state": {
            "_model_module": "@jupyter-widgets/base",
            "_model_module_version": "1.2.0",
            "_model_name": "LayoutModel",
            "_view_count": null,
            "_view_module": "@jupyter-widgets/base",
            "_view_module_version": "1.2.0",
            "_view_name": "LayoutView",
            "align_content": null,
            "align_items": null,
            "align_self": null,
            "border": null,
            "bottom": null,
            "display": null,
            "flex": null,
            "flex_flow": null,
            "grid_area": null,
            "grid_auto_columns": null,
            "grid_auto_flow": null,
            "grid_auto_rows": null,
            "grid_column": null,
            "grid_gap": null,
            "grid_row": null,
            "grid_template_areas": null,
            "grid_template_columns": null,
            "grid_template_rows": null,
            "height": null,
            "justify_content": null,
            "justify_items": null,
            "left": null,
            "margin": null,
            "max_height": null,
            "max_width": null,
            "min_height": null,
            "min_width": null,
            "object_fit": null,
            "object_position": null,
            "order": null,
            "overflow": null,
            "overflow_x": null,
            "overflow_y": null,
            "padding": null,
            "right": null,
            "top": null,
            "visibility": null,
            "width": null
          }
        },
        "d264ddf715574a9bb44086ef951e091d": {
          "model_module": "@jupyter-widgets/base",
          "model_name": "LayoutModel",
          "model_module_version": "1.2.0",
          "state": {
            "_model_module": "@jupyter-widgets/base",
            "_model_module_version": "1.2.0",
            "_model_name": "LayoutModel",
            "_view_count": null,
            "_view_module": "@jupyter-widgets/base",
            "_view_module_version": "1.2.0",
            "_view_name": "LayoutView",
            "align_content": null,
            "align_items": null,
            "align_self": null,
            "border": null,
            "bottom": null,
            "display": null,
            "flex": null,
            "flex_flow": null,
            "grid_area": null,
            "grid_auto_columns": null,
            "grid_auto_flow": null,
            "grid_auto_rows": null,
            "grid_column": null,
            "grid_gap": null,
            "grid_row": null,
            "grid_template_areas": null,
            "grid_template_columns": null,
            "grid_template_rows": null,
            "height": null,
            "justify_content": null,
            "justify_items": null,
            "left": null,
            "margin": null,
            "max_height": null,
            "max_width": null,
            "min_height": null,
            "min_width": null,
            "object_fit": null,
            "object_position": null,
            "order": null,
            "overflow": null,
            "overflow_x": null,
            "overflow_y": null,
            "padding": null,
            "right": null,
            "top": null,
            "visibility": null,
            "width": null
          }
        },
        "bf7341bad2604df2874942e5a694c89f": {
          "model_module": "@jupyter-widgets/controls",
          "model_name": "DescriptionStyleModel",
          "model_module_version": "1.5.0",
          "state": {
            "_model_module": "@jupyter-widgets/controls",
            "_model_module_version": "1.5.0",
            "_model_name": "DescriptionStyleModel",
            "_view_count": null,
            "_view_module": "@jupyter-widgets/base",
            "_view_module_version": "1.2.0",
            "_view_name": "StyleView",
            "description_width": ""
          }
        },
        "1a6649141d354c6fb70bda4417c0cf16": {
          "model_module": "@jupyter-widgets/base",
          "model_name": "LayoutModel",
          "model_module_version": "1.2.0",
          "state": {
            "_model_module": "@jupyter-widgets/base",
            "_model_module_version": "1.2.0",
            "_model_name": "LayoutModel",
            "_view_count": null,
            "_view_module": "@jupyter-widgets/base",
            "_view_module_version": "1.2.0",
            "_view_name": "LayoutView",
            "align_content": null,
            "align_items": null,
            "align_self": null,
            "border": null,
            "bottom": null,
            "display": null,
            "flex": null,
            "flex_flow": null,
            "grid_area": null,
            "grid_auto_columns": null,
            "grid_auto_flow": null,
            "grid_auto_rows": null,
            "grid_column": null,
            "grid_gap": null,
            "grid_row": null,
            "grid_template_areas": null,
            "grid_template_columns": null,
            "grid_template_rows": null,
            "height": null,
            "justify_content": null,
            "justify_items": null,
            "left": null,
            "margin": null,
            "max_height": null,
            "max_width": null,
            "min_height": null,
            "min_width": null,
            "object_fit": null,
            "object_position": null,
            "order": null,
            "overflow": null,
            "overflow_x": null,
            "overflow_y": null,
            "padding": null,
            "right": null,
            "top": null,
            "visibility": null,
            "width": null
          }
        },
        "6f2483bc1a9943acb639ce933857b6dd": {
          "model_module": "@jupyter-widgets/controls",
          "model_name": "ProgressStyleModel",
          "model_module_version": "1.5.0",
          "state": {
            "_model_module": "@jupyter-widgets/controls",
            "_model_module_version": "1.5.0",
            "_model_name": "ProgressStyleModel",
            "_view_count": null,
            "_view_module": "@jupyter-widgets/base",
            "_view_module_version": "1.2.0",
            "_view_name": "StyleView",
            "bar_color": null,
            "description_width": ""
          }
        },
        "e11d4e7e3ec149b7a92584419054a44a": {
          "model_module": "@jupyter-widgets/base",
          "model_name": "LayoutModel",
          "model_module_version": "1.2.0",
          "state": {
            "_model_module": "@jupyter-widgets/base",
            "_model_module_version": "1.2.0",
            "_model_name": "LayoutModel",
            "_view_count": null,
            "_view_module": "@jupyter-widgets/base",
            "_view_module_version": "1.2.0",
            "_view_name": "LayoutView",
            "align_content": null,
            "align_items": null,
            "align_self": null,
            "border": null,
            "bottom": null,
            "display": null,
            "flex": null,
            "flex_flow": null,
            "grid_area": null,
            "grid_auto_columns": null,
            "grid_auto_flow": null,
            "grid_auto_rows": null,
            "grid_column": null,
            "grid_gap": null,
            "grid_row": null,
            "grid_template_areas": null,
            "grid_template_columns": null,
            "grid_template_rows": null,
            "height": null,
            "justify_content": null,
            "justify_items": null,
            "left": null,
            "margin": null,
            "max_height": null,
            "max_width": null,
            "min_height": null,
            "min_width": null,
            "object_fit": null,
            "object_position": null,
            "order": null,
            "overflow": null,
            "overflow_x": null,
            "overflow_y": null,
            "padding": null,
            "right": null,
            "top": null,
            "visibility": null,
            "width": null
          }
        },
        "9f4a5135dd1e4173ae02e0ae5e2ac82b": {
          "model_module": "@jupyter-widgets/controls",
          "model_name": "DescriptionStyleModel",
          "model_module_version": "1.5.0",
          "state": {
            "_model_module": "@jupyter-widgets/controls",
            "_model_module_version": "1.5.0",
            "_model_name": "DescriptionStyleModel",
            "_view_count": null,
            "_view_module": "@jupyter-widgets/base",
            "_view_module_version": "1.2.0",
            "_view_name": "StyleView",
            "description_width": ""
          }
        }
      }
    },
    "colab": {
      "provenance": []
    },
    "gpuClass": "standard",
    "accelerator": "GPU"
  },
  "nbformat": 4,
  "nbformat_minor": 0
}